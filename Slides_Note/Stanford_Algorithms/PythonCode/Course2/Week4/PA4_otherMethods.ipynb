{
 "cells": [
  {
   "cell_type": "markdown",
   "metadata": {},
   "source": [
    "### PA4 Test Notebook"
   ]
  },
  {
   "cell_type": "markdown",
   "metadata": {},
   "source": [
    "## 题型描述"
   ]
  },
  {
   "cell_type": "markdown",
   "metadata": {},
   "source": [
    "Download the following text file:\n",
    "\n",
    "[algo1-programming_prob-2sum.txt](https://d3c33hcgiwev3.cloudfront.net/_6ec67df2804ff4b58ab21c12edcb21f8_algo1-programming_prob-2sum.txt?Expires=1588550400&Signature=YBFWeGrAjYDZy8Trs4T17uHOVqRZs1OmBqhH0r2meN76pqt0DqZ9pHKM9MpYzXPXU9oZI9YOsTEbgY5Vvtuzr9P-gGewLRf7OboaqSscSZlumE7M2iPIYpoUS3cr8J5SBvJR7G8MmP5hUTje2mt20ClWS66nDvX0p-PeMm9RzuI_&Key-Pair-Id=APKAJLTNE6QMUY6HBC5A)\n",
    "\n",
    "The goal of this problem is to implement a variant of the 2-SUM algorithm covered in this week's lectures.\n",
    "\n",
    "The file contains 1 million integers, both positive and negative (there might be some repetitions!).This is your array of integers, with the i-th row of the file specifying the i-th entry of the array.\n",
    "\n",
    "Your task is to compute the number of target values t in the interval [-10000,10000] (inclusive) such that there are distinct numbers x,y in the input file that satisfy x+y=t. (NOTE: ensuring distinctness requires a one-line addition to the algorithm from lecture.)\n",
    "\n",
    "Write your numeric answer (an integer between 0 and 20001) in the space provided.\n",
    "\n",
    "OPTIONAL CHALLENGE: If this problem is too easy for you, try implementing your own hash table for it. For example, you could compare performance under the chaining and open addressing approaches to resolving collisions.\n",
    "\n",
    "**大概的意思就是，计算里面出了-10000到10000这20001个数中的几个数s**\n"
   ]
  },
  {
   "cell_type": "markdown",
   "metadata": {},
   "source": [
    "## 实验结果 "
   ]
  },
  {
   "cell_type": "code",
   "execution_count": 1,
   "metadata": {},
   "outputs": [],
   "source": [
    "testFile = \"problem12.4test.txt\"\n",
    "challengeFile = \"algo1-programming_prob-2sum.txt\"\n",
    "def loadArray(file):\n",
    "    array = []\n",
    "    for line in open(file):\n",
    "        array.append(int(line.rstrip()))\n",
    "    return array"
   ]
  },
  {
   "cell_type": "code",
   "execution_count": 2,
   "metadata": {},
   "outputs": [],
   "source": [
    "nums = sorted(loadArray(testFile))\n",
    "intervalMin = 3\n",
    "intervalMax = 10"
   ]
  },
  {
   "cell_type": "code",
   "execution_count": 3,
   "metadata": {},
   "outputs": [],
   "source": [
    "success = 0"
   ]
  },
  {
   "cell_type": "code",
   "execution_count": 5,
   "metadata": {},
   "outputs": [],
   "source": [
    "def FindNumbersWithSum(array, tsum):\n",
    "    for i in range(len(array)):\n",
    "        if tsum-array[i] in array[i+1:]:\n",
    "            # list.index(target, beg, end) 表示从i+1位开始索引\n",
    "            #target = array.index(tsum-array[i], i+1)\n",
    "            #return [array[i], array[target]]\n",
    "            return True\n",
    "    return False"
   ]
  },
  {
   "cell_type": "code",
   "execution_count": 7,
   "metadata": {},
   "outputs": [
    {
     "name": "stdout",
     "output_type": "stream",
     "text": [
      "8\n"
     ]
    }
   ],
   "source": [
    "for i in range(intervalMin, intervalMax+1):\n",
    "    if i % 100 == 0:\n",
    "        print('Current: {}, Percentage: {} %'.format(i,(i+10000)/200))\n",
    "    res = FindNumbersWithSum(nums, i)\n",
    "    if res:\n",
    "        success += 1\n",
    "print(success)"
   ]
  },
  {
   "cell_type": "markdown",
   "metadata": {},
   "source": [
    "- 导入challenge set，结果发现用这种方式计算太慢"
   ]
  },
  {
   "cell_type": "code",
   "execution_count": 8,
   "metadata": {},
   "outputs": [],
   "source": [
    "nums = sorted(loadArray(challengeFile))\n",
    "intervalMin = -10000\n",
    "intervalMax = 10000"
   ]
  },
  {
   "cell_type": "code",
   "execution_count": 9,
   "metadata": {},
   "outputs": [],
   "source": [
    "success = 0"
   ]
  },
  {
   "cell_type": "code",
   "execution_count": null,
   "metadata": {},
   "outputs": [],
   "source": [
    "for i in range(intervalMin, intervalMax+1):\n",
    "    if i % 2 == 0:\n",
    "        print('Current: {}, Percentage: {} %'.format(i,(i+10000)/200))\n",
    "        print(success)\n",
    "    res = FindNumbersWithSum(nums, i)\n",
    "    if res:\n",
    "        success += 1\n",
    "print(success)"
   ]
  },
  {
   "cell_type": "markdown",
   "metadata": {},
   "source": [
    "---"
   ]
  },
  {
   "cell_type": "markdown",
   "metadata": {},
   "source": [
    "- 使用hashMap的方法"
   ]
  },
  {
   "cell_type": "code",
   "execution_count": 13,
   "metadata": {},
   "outputs": [],
   "source": [
    "# 只需构建一次，避免反复迭代！\n",
    "def setHashMap(array):\n",
    "    hashMap = {}\n",
    "    for i, num in enumerate(array):\n",
    "        # 感觉得先构造map，词典 key 对应的 val 是他的索引\n",
    "        hashMap[num] = i\n",
    "    return hashMap\n",
    "\n",
    "def twoSumModified(array, tsum, hashMap):\n",
    "    for i, num in enumerate(array):\n",
    "        if tsum-num in hashMap:\n",
    "            target = hashMap[tsum-num]\n",
    "            return True, [array[i], array[target]]\n",
    "    return False, []"
   ]
  },
  {
   "cell_type": "code",
   "execution_count": 14,
   "metadata": {},
   "outputs": [
    {
     "name": "stdout",
     "output_type": "stream",
     "text": [
      "8\n"
     ]
    }
   ],
   "source": [
    "testFile = \"problem12.4test.txt\"\n",
    "challengeFile = \"algo1-programming_prob-2sum.txt\"\n",
    "def loadArray(file):\n",
    "    array = []\n",
    "    for line in open(file):\n",
    "        array.append(int(line.rstrip()))\n",
    "    return array\n",
    "\n",
    "if __name__ == '__main__':\n",
    "    nums = sorted(loadArray(testFile))\n",
    "    intervalMin = 3\n",
    "    intervalMax = 10\n",
    "#    nums = sorted(loadArray(challengeFile))\n",
    "#    intervalMin = -10000\n",
    "#    intervalMax = 10000\n",
    "    hashMap = setHashMap(nums)\n",
    "    success = 0\n",
    "    for i in range(intervalMin, intervalMax+1):\n",
    "        if i % 100 == 0:\n",
    "            print('Current: {}, Percentage: {} %'.format(i,(i+10000)/200))\n",
    "        res, _ = twoSumModified(nums, i, hashMap)\n",
    "        if res:\n",
    "            success += 1\n",
    "    print(success)"
   ]
  },
  {
   "cell_type": "code",
   "execution_count": 17,
   "metadata": {},
   "outputs": [
    {
     "name": "stdout",
     "output_type": "stream",
     "text": [
      "Current: -10000, Percentage: 0.0 %\n",
      "Success:0\n",
      "Current: -9800, Percentage: 1.0 %\n",
      "Success:4\n",
      "Current: -9600, Percentage: 2.0 %\n",
      "Success:8\n",
      "Current: -9400, Percentage: 3.0 %\n",
      "Success:14\n",
      "Current: -9200, Percentage: 4.0 %\n",
      "Success:18\n",
      "Current: -9000, Percentage: 5.0 %\n",
      "Success:22\n",
      "Current: -8800, Percentage: 6.0 %\n",
      "Success:26\n",
      "Current: -8600, Percentage: 7.0 %\n",
      "Success:30\n",
      "Current: -8400, Percentage: 8.0 %\n",
      "Success:34\n",
      "Current: -8200, Percentage: 9.0 %\n",
      "Success:38\n",
      "Current: -8000, Percentage: 10.0 %\n",
      "Success:44\n",
      "Current: -7800, Percentage: 11.0 %\n",
      "Success:48\n",
      "Current: -7600, Percentage: 12.0 %\n",
      "Success:52\n",
      "Current: -7400, Percentage: 13.0 %\n",
      "Success:56\n",
      "Current: -7200, Percentage: 14.0 %\n",
      "Success:60\n",
      "Current: -7000, Percentage: 15.0 %\n",
      "Success:64\n",
      "Current: -6800, Percentage: 16.0 %\n",
      "Success:68\n",
      "Current: -6600, Percentage: 17.0 %\n",
      "Success:74\n",
      "Current: -6400, Percentage: 18.0 %\n",
      "Success:78\n",
      "Current: -6200, Percentage: 19.0 %\n",
      "Success:81\n",
      "Current: -6000, Percentage: 20.0 %\n",
      "Success:85\n",
      "Current: -5800, Percentage: 21.0 %\n",
      "Success:89\n",
      "Current: -5600, Percentage: 22.0 %\n",
      "Success:93\n",
      "Current: -5400, Percentage: 23.0 %\n",
      "Success:99\n",
      "Current: -5200, Percentage: 24.0 %\n",
      "Success:103\n",
      "Current: -5000, Percentage: 25.0 %\n",
      "Success:107\n",
      "Current: -4800, Percentage: 26.0 %\n",
      "Success:111\n",
      "Current: -4600, Percentage: 27.0 %\n",
      "Success:115\n",
      "Current: -4400, Percentage: 28.0 %\n",
      "Success:119\n",
      "Current: -4200, Percentage: 29.0 %\n",
      "Success:123\n",
      "Current: -4000, Percentage: 30.0 %\n",
      "Success:129\n",
      "Current: -3800, Percentage: 31.0 %\n",
      "Success:133\n",
      "Current: -3600, Percentage: 32.0 %\n",
      "Success:137\n",
      "Current: -3400, Percentage: 33.0 %\n",
      "Success:141\n",
      "Current: -3200, Percentage: 34.0 %\n",
      "Success:145\n",
      "Current: -3000, Percentage: 35.0 %\n",
      "Success:149\n",
      "Current: -2800, Percentage: 36.0 %\n",
      "Success:153\n",
      "Current: -2600, Percentage: 37.0 %\n",
      "Success:159\n",
      "Current: -2400, Percentage: 38.0 %\n",
      "Success:163\n",
      "Current: -2200, Percentage: 39.0 %\n",
      "Success:167\n",
      "Current: -2000, Percentage: 40.0 %\n",
      "Success:171\n",
      "Current: -1800, Percentage: 41.0 %\n",
      "Success:175\n",
      "Current: -1600, Percentage: 42.0 %\n",
      "Success:179\n",
      "Current: -1400, Percentage: 43.0 %\n",
      "Success:183\n",
      "Current: -1200, Percentage: 44.0 %\n",
      "Success:189\n",
      "Current: -1000, Percentage: 45.0 %\n",
      "Success:193\n",
      "Current: -800, Percentage: 46.0 %\n",
      "Success:197\n",
      "Current: -600, Percentage: 47.0 %\n",
      "Success:201\n",
      "Current: -400, Percentage: 48.0 %\n",
      "Success:205\n",
      "Current: -200, Percentage: 49.0 %\n",
      "Success:209\n",
      "Current: 0, Percentage: 50.0 %\n",
      "Success:214\n",
      "Current: 200, Percentage: 51.0 %\n",
      "Success:218\n",
      "Current: 400, Percentage: 52.0 %\n",
      "Success:222\n",
      "Current: 600, Percentage: 53.0 %\n",
      "Success:226\n",
      "Current: 800, Percentage: 54.0 %\n",
      "Success:230\n",
      "Current: 1000, Percentage: 55.0 %\n",
      "Success:234\n",
      "Current: 1200, Percentage: 56.0 %\n",
      "Success:238\n",
      "Current: 1400, Percentage: 57.0 %\n",
      "Success:244\n",
      "Current: 1600, Percentage: 58.0 %\n",
      "Success:248\n",
      "Current: 1800, Percentage: 59.0 %\n",
      "Success:252\n",
      "Current: 2000, Percentage: 60.0 %\n",
      "Success:256\n",
      "Current: 2200, Percentage: 61.0 %\n",
      "Success:260\n",
      "Current: 2400, Percentage: 62.0 %\n",
      "Success:264\n",
      "Current: 2600, Percentage: 63.0 %\n",
      "Success:268\n",
      "Current: 2800, Percentage: 64.0 %\n",
      "Success:274\n",
      "Current: 3000, Percentage: 65.0 %\n",
      "Success:278\n",
      "Current: 3200, Percentage: 66.0 %\n",
      "Success:282\n",
      "Current: 3400, Percentage: 67.0 %\n",
      "Success:286\n",
      "Current: 3600, Percentage: 68.0 %\n",
      "Success:290\n",
      "Current: 3800, Percentage: 69.0 %\n",
      "Success:294\n",
      "Current: 4000, Percentage: 70.0 %\n",
      "Success:298\n",
      "Current: 4200, Percentage: 71.0 %\n",
      "Success:304\n",
      "Current: 4400, Percentage: 72.0 %\n",
      "Success:308\n",
      "Current: 4600, Percentage: 73.0 %\n",
      "Success:312\n",
      "Current: 4800, Percentage: 74.0 %\n",
      "Success:316\n",
      "Current: 5000, Percentage: 75.0 %\n",
      "Success:320\n",
      "Current: 5200, Percentage: 76.0 %\n",
      "Success:324\n",
      "Current: 5400, Percentage: 77.0 %\n",
      "Success:328\n",
      "Current: 5600, Percentage: 78.0 %\n",
      "Success:334\n",
      "Current: 5800, Percentage: 79.0 %\n",
      "Success:338\n",
      "Current: 6000, Percentage: 80.0 %\n",
      "Success:342\n",
      "Current: 6200, Percentage: 81.0 %\n",
      "Success:346\n",
      "Current: 6400, Percentage: 82.0 %\n",
      "Success:349\n",
      "Current: 6600, Percentage: 83.0 %\n",
      "Success:353\n",
      "Current: 6800, Percentage: 84.0 %\n",
      "Success:359\n",
      "Current: 7000, Percentage: 85.0 %\n",
      "Success:363\n",
      "Current: 7200, Percentage: 86.0 %\n",
      "Success:367\n",
      "Current: 7400, Percentage: 87.0 %\n",
      "Success:371\n",
      "Current: 7600, Percentage: 88.0 %\n",
      "Success:375\n",
      "Current: 7800, Percentage: 89.0 %\n",
      "Success:379\n",
      "Current: 8000, Percentage: 90.0 %\n",
      "Success:383\n",
      "Current: 8200, Percentage: 91.0 %\n",
      "Success:389\n",
      "Current: 8400, Percentage: 92.0 %\n",
      "Success:393\n",
      "Current: 8600, Percentage: 93.0 %\n",
      "Success:397\n",
      "Current: 8800, Percentage: 94.0 %\n",
      "Success:401\n",
      "Current: 9000, Percentage: 95.0 %\n",
      "Success:405\n",
      "Current: 9200, Percentage: 96.0 %\n",
      "Success:409\n",
      "Current: 9400, Percentage: 97.0 %\n",
      "Success:413\n",
      "Current: 9600, Percentage: 98.0 %\n",
      "Success:419\n",
      "Current: 9800, Percentage: 99.0 %\n",
      "Success:423\n",
      "Current: 10000, Percentage: 100.0 %\n",
      "Success:427\n",
      "Total:427\n"
     ]
    }
   ],
   "source": [
    "testFile = \"problem12.4test.txt\"\n",
    "challengeFile = \"algo1-programming_prob-2sum.txt\"\n",
    "def loadArray(file):\n",
    "    array = []\n",
    "    for line in open(file):\n",
    "        array.append(int(line.rstrip()))\n",
    "    return array\n",
    "\n",
    "if __name__ == '__main__':\n",
    "#    nums = sorted(loadArray(testFile))\n",
    "#    intervalMin = 3\n",
    "#    intervalMax = 10\n",
    "    nums = sorted(loadArray(challengeFile))\n",
    "    intervalMin = -10000\n",
    "    intervalMax = 10000\n",
    "    hashMap = setHashMap(nums)\n",
    "    success = 0\n",
    "    for i in range(intervalMin, intervalMax+1):\n",
    "        if i % 200 == 0:\n",
    "            print('Current: {}, Percentage: {} %'.format(i,(i+10000)/200))\n",
    "            print('Success:{}'.format(success))\n",
    "        res, _ = twoSumModified(nums, i, hashMap)\n",
    "        if res:\n",
    "            success += 1\n",
    "    print('Total:{}'.format(success))"
   ]
  },
  {
   "cell_type": "code",
   "execution_count": null,
   "metadata": {},
   "outputs": [],
   "source": []
  }
 ],
 "metadata": {
  "kernelspec": {
   "display_name": "Python 3",
   "language": "python",
   "name": "python3"
  },
  "language_info": {
   "codemirror_mode": {
    "name": "ipython",
    "version": 3
   },
   "file_extension": ".py",
   "mimetype": "text/x-python",
   "name": "python",
   "nbconvert_exporter": "python",
   "pygments_lexer": "ipython3",
   "version": "3.6.2"
  }
 },
 "nbformat": 4,
 "nbformat_minor": 4
}
