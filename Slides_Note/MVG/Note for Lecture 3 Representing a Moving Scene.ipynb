{
 "cells": [
  {
   "cell_type": "markdown",
   "metadata": {},
   "source": [
    "## Note for Lecture 3: Representing a Moving Scene"
   ]
  },
  {
   "cell_type": "markdown",
   "metadata": {
    "ExecuteTime": {
     "end_time": "2020-01-20T13:56:01.748570Z",
     "start_time": "2020-01-20T13:56:01.733341Z"
    }
   },
   "source": [
    "> 对应[bilibili视频](https://www.bilibili.com/video/av24149942?p=3)"
   ]
  },
  {
   "cell_type": "markdown",
   "metadata": {},
   "source": [
    "### 3D Space & Rigid Body Motion"
   ]
  },
  {
   "cell_type": "markdown",
   "metadata": {},
   "source": [
    "- 3D Euclidean Space 三维欧几里得空间"
   ]
  },
  {
   "cell_type": "markdown",
   "metadata": {},
   "source": [
    "三维空间点 $ \\mathbf{X} = (X_1, X_2, X_3)^{\\mathsf{T}} \\in \\mathbb{R}^{3} $\n",
    "\n",
    "进一步，可以定义 $ v = \\mathbf{Y} - \\mathbf{X} \\in \\mathbb{R}^{3} $"
   ]
  },
  {
   "cell_type": "markdown",
   "metadata": {},
   "source": [
    "- Cross Product & Skew-symmetric Matrices 叉积与斜对称矩阵"
   ]
  },
  {
   "cell_type": "markdown",
   "metadata": {},
   "source": [
    "两个空间向量叉积可以直接转化为，向量与斜对称矩阵的乘积\n",
    "\n",
    "$$\n",
    "u \\times v\n",
    "=\\left(\\begin{array}{l}\n",
    "{u_{2} v_{3}-u_{3} v_{2}} \\\\\n",
    "{u_{3} v_{1}-u_{1} v_{3}} \\\\\n",
    "{u_{1} v_{2}-u_{2} v_{1}}\n",
    "\\end{array}\\right)\n",
    "\\in \\mathbb{R}^{3}\n",
    "$$\n",
    "\n",
    "具有性质 $\n",
    "u \\times v = - v \\times u $"
   ]
  },
  {
   "cell_type": "markdown",
   "metadata": {},
   "source": [
    "可以转化为 $ \\widehat{u} v $，\n",
    "\n",
    "其中$\n",
    "\\widehat{u}=\\left(\\begin{array}{ccc}\n",
    "{0} & {-u_{3}} & {u_{2}} \\\\\n",
    "{u_{3}} & {0} & {-u_{1}} \\\\\n",
    "{-u_{2}} & {u_{1}} & {0}\n",
    "\\end{array}\\right) \\in \\mathbb{R}^{3 \\times 3}\n",
    "$是一个斜对称矩阵\n",
    "\n",
    "具有以下性质$ M = - M ^{\\mathsf{T}} $"
   ]
  },
  {
   "cell_type": "markdown",
   "metadata": {},
   "source": [
    "The operator $ \\widehat{ }  $ defines an isomorphism between \\mathbb{R}^{3} and the space so(3) of all 3 x 3 skew-symmetric matrices.\n",
    "\n",
    "**!!!so(3)是属于李代数，而SO(3)属于李群，暂时不是非常理解**"
   ]
  },
  {
   "cell_type": "markdown",
   "metadata": {},
   "source": [
    "- Rigid-body Motion 刚体运动"
   ]
  },
  {
   "cell_type": "markdown",
   "metadata": {},
   "source": [
    "另外一种定义方式：preserve the norm and cross product of any two vectors\n",
    "\n",
    "保持向量长度以及叉积的结果！进一步可以是实现triple-product：\n",
    "\n",
    "$$\n",
    "\\left\\langle g_{t}(u), g_{t}(v) \\times g_{t}(w)\\right\\rangle=\\langle u, v \\times w\\rangle, \\quad \\forall u, v, w \\in \\mathbb{R}^{3}\n",
    "$$\n",
    "\n",
    "验证体积的保持！"
   ]
  },
  {
   "cell_type": "markdown",
   "metadata": {},
   "source": []
  },
  {
   "cell_type": "markdown",
   "metadata": {},
   "source": []
  }
 ],
 "metadata": {
  "kernelspec": {
   "display_name": "Python 3",
   "language": "python",
   "name": "python3"
  },
  "language_info": {
   "codemirror_mode": {
    "name": "ipython",
    "version": 3
   },
   "file_extension": ".py",
   "mimetype": "text/x-python",
   "name": "python",
   "nbconvert_exporter": "python",
   "pygments_lexer": "ipython3",
   "version": "3.7.2"
  },
  "toc": {
   "base_numbering": 1,
   "nav_menu": {},
   "number_sections": true,
   "sideBar": true,
   "skip_h1_title": false,
   "title_cell": "Table of Contents",
   "title_sidebar": "Contents",
   "toc_cell": false,
   "toc_position": {},
   "toc_section_display": true,
   "toc_window_display": false
  },
  "varInspector": {
   "cols": {
    "lenName": 16,
    "lenType": 16,
    "lenVar": 40
   },
   "kernels_config": {
    "python": {
     "delete_cmd_postfix": "",
     "delete_cmd_prefix": "del ",
     "library": "var_list.py",
     "varRefreshCmd": "print(var_dic_list())"
    },
    "r": {
     "delete_cmd_postfix": ") ",
     "delete_cmd_prefix": "rm(",
     "library": "var_list.r",
     "varRefreshCmd": "cat(var_dic_list()) "
    }
   },
   "types_to_exclude": [
    "module",
    "function",
    "builtin_function_or_method",
    "instance",
    "_Feature"
   ],
   "window_display": false
  }
 },
 "nbformat": 4,
 "nbformat_minor": 2
}
