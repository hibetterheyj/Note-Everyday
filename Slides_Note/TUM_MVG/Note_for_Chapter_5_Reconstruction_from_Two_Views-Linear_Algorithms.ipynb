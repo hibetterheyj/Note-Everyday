{
 "cells": [
  {
   "cell_type": "markdown",
   "metadata": {
    "toc": true
   },
   "source": [
    "<h1>Table of Contents<span class=\"tocSkip\"></span></h1>\n",
    "<div class=\"toc\"><ul class=\"toc-item\"><li><span><a href=\"#Note-for-Chapter-5-Reconstruction-from-Two-Views-Linear-Algorithms\" data-toc-modified-id=\"Note-for-Chapter-5-Reconstruction-from-Two-Views-Linear-Algorithms-1\">Note for Chapter 5 Reconstruction from Two Views-Linear Algorithms</a></span><ul class=\"toc-item\"><li><span><a href=\"#The-Reconstruction-Problem\" data-toc-modified-id=\"The-Reconstruction-Problem-1.1\">The Reconstruction Problem</a></span><ul class=\"toc-item\"><li><span><a href=\"#Problem-Formulation\" data-toc-modified-id=\"Problem-Formulation-1.1.1\">Problem Formulation</a></span></li><li><span><a href=\"#The-Reconstruction-Problem\" data-toc-modified-id=\"The-Reconstruction-Problem-1.1.2\">The Reconstruction Problem</a></span></li><li><span><a href=\"#Epipolar-Geometry:-Some-Notation\" data-toc-modified-id=\"Epipolar-Geometry:-Some-Notation-1.1.3\">Epipolar Geometry: Some Notation</a></span></li></ul></li><li><span><a href=\"#The-Epipolar-Constraint\" data-toc-modified-id=\"The-Epipolar-Constraint-1.2\">The Epipolar Constraint</a></span><ul class=\"toc-item\"><li><span><a href=\"#Properties-of-the-Essential-Matrix-$-E-$\" data-toc-modified-id=\"Properties-of-the-Essential-Matrix-$-E-$-1.2.1\">Properties of the Essential Matrix $ E $</a></span></li></ul></li><li><span><a href=\"#Eight-Point-Algorithm\" data-toc-modified-id=\"Eight-Point-Algorithm-1.3\">Eight-Point Algorithm</a></span><ul class=\"toc-item\"><li><span><a href=\"#A-Basic-Reconstruction-Algorithm\" data-toc-modified-id=\"A-Basic-Reconstruction-Algorithm-1.3.1\">A Basic Reconstruction Algorithm</a></span></li><li><span><a href=\"#The-Eight-Point-Linear-Algorithm\" data-toc-modified-id=\"The-Eight-Point-Linear-Algorithm-1.3.2\">The Eight-Point Linear Algorithm</a></span></li><li><span><a href=\"#Projection-onto-Essential-Space\" data-toc-modified-id=\"Projection-onto-Essential-Space-1.3.3\">Projection onto Essential Space</a></span></li><li><span><a href=\"#Eight-Point-Algorithm-(Longuet-Higgins-’81)\" data-toc-modified-id=\"Eight-Point-Algorithm-(Longuet-Higgins-’81)-1.3.4\">Eight Point Algorithm (Longuet-Higgins ’81)</a></span></li><li><span><a href=\"#Do-We-Need-Eight-Points?\" data-toc-modified-id=\"Do-We-Need-Eight-Points?-1.3.5\">Do We Need Eight Points?</a></span></li><li><span><a href=\"#Limitations-and-Further-Extensions\" data-toc-modified-id=\"Limitations-and-Further-Extensions-1.3.6\">Limitations and Further Extensions</a></span></li></ul></li><li><span><a href=\"#Structure-Reconstruction\" data-toc-modified-id=\"Structure-Reconstruction-1.4\">Structure Reconstruction</a></span><ul class=\"toc-item\"><li><span><a href=\"#Optimality-in-Noisy-Real-World-Conditions\" data-toc-modified-id=\"Optimality-in-Noisy-Real-World-Conditions-1.4.1\">Optimality in Noisy Real World Conditions</a></span></li><li><span><a href=\"#Nonlinear-Optimization-Methods\" data-toc-modified-id=\"Nonlinear-Optimization-Methods-1.4.2\">Nonlinear Optimization Methods</a></span></li><li><span><a href=\"#Bundle-Adjustment\" data-toc-modified-id=\"Bundle-Adjustment-1.4.3\">Bundle Adjustment</a></span></li><li><span><a href=\"#Degenerate-Configurations\" data-toc-modified-id=\"Degenerate-Configurations-1.4.4\">Degenerate Configurations</a></span></li></ul></li><li><span><a href=\"#Four-Point-Algorithm\" data-toc-modified-id=\"Four-Point-Algorithm-1.5\">Four-Point Algorithm</a></span><ul class=\"toc-item\"><li><span><a href=\"#Planar-Homographies\" data-toc-modified-id=\"Planar-Homographies-1.5.1\">Planar Homographies</a></span></li><li><span><a href=\"#From-Point-Pairs-to-Homography\" data-toc-modified-id=\"From-Point-Pairs-to-Homography-1.5.2\">From Point Pairs to Homography</a></span></li><li><span><a href=\"#The-Four-Point-Algorithm\" data-toc-modified-id=\"The-Four-Point-Algorithm-1.5.3\">The Four Point Algorithm</a></span></li><li><span><a href=\"#General-Comments\" data-toc-modified-id=\"General-Comments-1.5.4\">General Comments</a></span></li></ul></li><li><span><a href=\"#The-Uncalibrated-Case\" data-toc-modified-id=\"The-Uncalibrated-Case-1.6\">The Uncalibrated Case</a></span><ul class=\"toc-item\"><li><span><a href=\"#The-Case-of-an-Uncalibrated-Camera\" data-toc-modified-id=\"The-Case-of-an-Uncalibrated-Camera-1.6.1\">The Case of an Uncalibrated Camera</a></span></li><li><span><a href=\"#The-Fundamental-Matrix\" data-toc-modified-id=\"The-Fundamental-Matrix-1.6.2\">The Fundamental Matrix</a></span></li><li><span><a href=\"#Limitations\" data-toc-modified-id=\"Limitations-1.6.3\">Limitations</a></span></li></ul></li></ul></li></ul></div>"
   ]
  },
  {
   "cell_type": "markdown",
   "metadata": {},
   "source": [
    "## Note for Chapter 5 Reconstruction from Two Views-Linear Algorithms"
   ]
  },
  {
   "cell_type": "markdown",
   "metadata": {},
   "source": [
    "- bilibili视频[lecture8](https://www.bilibili.com/video/av24149942?p=8)\n",
    "\n",
    "- 参考书目\n",
    "\n",
    "```\n",
    "Ma, Yi, et al. An invitation to 3-d vision: from images to geometric models. Vol. 26. Springer Science & Business Media, 2012.\n",
    "```"
   ]
  },
  {
   "cell_type": "markdown",
   "metadata": {},
   "source": [
    "### The Reconstruction Problem"
   ]
  },
  {
   "cell_type": "markdown",
   "metadata": {},
   "source": [
    "#### Problem Formulation"
   ]
  },
  {
   "cell_type": "markdown",
   "metadata": {},
   "source": [
    "reconstructing the 3D geometry of cameras and points：\n",
    "\n",
    "1. We assume that we are given a set of corresponding points in two frames taken with the same camera from different vantage points (两个小问题：对应点可能会有小偏移/可能会有不应该的对应点）\n",
    "2. the scene is static（问题：现实很可能会偏移）\n",
    "3. intrinsic camera (calibration) parameters are known（内参不变）\n",
    "\n",
    "逐步放松-》piece-wise static\n",
    "\n",
    "主要问题：\n",
    "1. estimate the **camera motion** from the set of corresponding points.\n",
    "2. 3D **location** of the points\n",
    "\n",
    "Goal: Estimate camera motion and 3D scene structure from two views."
   ]
  },
  {
   "cell_type": "markdown",
   "metadata": {},
   "source": [
    "#### The Reconstruction Problem"
   ]
  },
  {
   "cell_type": "markdown",
   "metadata": {},
   "source": [
    "假设：两个场景中对应同100个特征点，应该在两张图片里有200个点。\n",
    "\n",
    "目标：\n",
    "1. 旋转和平移坐标系的六个参数（6 parameters modeling the camera motion R; T）\n",
    "2. 所有点的三维坐标（100 x 3 coordinates for the 3D points）\n",
    "\n",
    "可以通过最小化投影误差来实现：\n",
    "$$\n",
    "E(R,T,X_1,\\ldots,X_{100}) = \\sum_{f} \\Vert x_{1}^{j} - \\pi(X_j) \\Vert^2 + \\Vert x_{2}^{j} - \\pi(R, T, X_j) \\Vert^2\n",
    "$$\n",
    "\n",
    "产生了一个难以优化的问题（difficult optimization problem called bundle adjustment.）\n",
    "\n",
    "**Not Convex !**\n",
    "\n",
    "首先会使用八点解法（8-point algorithms）"
   ]
  },
  {
   "cell_type": "markdown",
   "metadata": {},
   "source": [
    "#### Epipolar Geometry: Some Notation"
   ]
  },
  {
   "cell_type": "markdown",
   "metadata": {},
   "source": [
    "![Epipolar](./Image/Chap5_epipolar.jpg)\n",
    "\n",
    "- 空间点的三维表示：$ \\mathbf{X} $\n",
    "- 两个面上点的二维表示：$ \\mathbf{x}_1 $, $ \\mathbf{x}_2 $\n",
    "- 相机原点：$ \\mathbf{o}_1 $, $ \\mathbf{o}_2 $\n",
    "- 两原点连线与平面交点（极点）：$ \\mathbf{e}_1 $, $ \\mathbf{e}_2 $\n",
    "- 极点与平面上物相点的连线为**极线**"
   ]
  },
  {
   "cell_type": "markdown",
   "metadata": {},
   "source": [
    "### The Epipolar Constraint"
   ]
  },
  {
   "cell_type": "markdown",
   "metadata": {},
   "source": [
    "首先第一张图片点对应未知深度$ \\lambda_1 $，第二张图$ \\lambda_2 $，那么可以得到如下方程：\n",
    "$$\n",
    "\\lambda_1 x_1 = X,\n",
    "\\quad\n",
    "\\lambda_2 x_2 = RX + T\n",
    "$$\n",
    "\n",
    "然后代入消元：\n",
    "$$\n",
    "\\lambda_2 x_2 = R(\\lambda_1 x_1) + T\n",
    "$$\n",
    "\n",
    "然后进一步使用叉乘消去平移向量$ T $，然后使用skew-matrix形式表示（$\\hat{T} v \\equiv T \\times v  $），如下：\n",
    "$$\n",
    "\\lambda_2 \\hat{T} x_2 = \\lambda_1 \\hat{T} R x_1\n",
    "$$\n",
    "\n",
    "由于$ \\hat{T} x_2 $的结果垂直于$ x_2 $，因此$ x_2^{\\mathsf{T}}\\hat{T} x_2 = 0 $。\n",
    "\n",
    "因此上式，先乘上$ x_2^{\\mathsf{T}} $，然后除以深度这一常数，得到epipolar constraint：\n",
    "$$\n",
    "x_2^{\\mathsf{T}} \\hat{T} R x_1 = 0\n",
    "$$\n",
    "\n",
    "之后对于essential matric进行探讨：\n",
    "$$\n",
    "E = \\hat{T} R \\in \\mathbb{R}^{3 \\times 3}\n",
    "$$\n",
    "\n",
    "有一种空间数学表示如下，$ \\vec{o_1 X} $, $ \\vec{o_1 o_2} $以及$ \\vec{o_2 X} $\n",
    "\n",
    "❗ 暂时不能理解"
   ]
  },
  {
   "cell_type": "markdown",
   "metadata": {},
   "source": [
    "#### Properties of the Essential Matrix $ E $"
   ]
  },
  {
   "cell_type": "markdown",
   "metadata": {},
   "source": [
    "essential matrix对应的空间为essential space $ \\mathcal{E} $，可以如下表示：\n",
    "$$\n",
    "\\mathcal{E} = \n",
    "\\left\\{\n",
    "\\hat{T} R | R \\in SO(3), T \\in \\mathbb{R}^3\n",
    "\\right\\}\n",
    "\\subset\n",
    "\\mathbb{R}^{3 \\times 3}\n",
    "$$\n",
    "\n",
    "当且仅当使用SVD分解为$ E $的是essential matrix：\n",
    "$$\n",
    "E = U \\Sigma V^{\\mathsf{T}},\n",
    "\\quad\n",
    "\\Sigma = \\mathrm{diag}\n",
    "\\{ \\sigma, \\sigma, 0\\}\n",
    "$$\n",
    "其中，$ \\sigma > 0$并且$ U, V \\in SO(3)$\n",
    "\n",
    "然后进一步平移和旋转矩阵有两组解：\n",
    "$$\n",
    "(\\hat{T}_1, R_1) = (U R_z(+\\frac{\\pi}{2})\\Sigma U^{\\mathsf{T}}, UR_z^{\\mathsf{T}}(+\\frac{\\pi}{2})V^\\mathsf{T}),\\\\\n",
    "(\\hat{T}_2, R_2) = (U R_z(-\\frac{\\pi}{2})\\Sigma U^{\\mathsf{T}}, UR_z^{\\mathsf{T}}(-\\frac{\\pi}{2})V^\\mathsf{T}).\n",
    "$$\n",
    "\n",
    "在大部分情况下，只有一组是合理的。"
   ]
  },
  {
   "cell_type": "markdown",
   "metadata": {},
   "source": [
    "### Eight-Point Algorithm"
   ]
  },
  {
   "cell_type": "markdown",
   "metadata": {},
   "source": [
    "#### A Basic Reconstruction Algorithm"
   ]
  },
  {
   "cell_type": "markdown",
   "metadata": {},
   "source": [
    "三维重建算法以下步骤：\n",
    "\n",
    "- 首先从极点限制中恢复出essential matrix E(Recover the essential matrix E from the epipolar constraints associated with a set of point pairs)\n",
    "- 然后导出对应的旋转和位移(Extract the relative translation and rotation from the essential matrix E.)\n",
    "\n",
    "主要有两种方法导出E：\n",
    "\n",
    "1. 从极点限制中得出，然后再映射到本征空间当中去(Recover some matrix E from the epipolar constraints and then project it onto the essential space) suboptimal =》 simpler and faster\n",
    "2. 直接在本征空间中进行优化(Optimize the epipolar constraints in the essential space.) more accurate =》 难以解决"
   ]
  },
  {
   "cell_type": "markdown",
   "metadata": {},
   "source": [
    "#### The Eight-Point Linear Algorithm"
   ]
  },
  {
   "cell_type": "markdown",
   "metadata": {},
   "source": [
    "首先将矩阵E向量化：\n",
    "$$\n",
    "E^s = (e_{11}. e_{21}, e_{31}, \\ldots, e_{13}. e_{23}, e_{33})^{\\mathsf{T}} \\in \\mathbb{R}^9\n",
    "$$\n",
    "结合，两个坐标的克罗内克积\n",
    "$$\n",
    "a = x_1 \\otimes x_2\n",
    "= (x_1x_2, x_1y_2, x_1z_2, y_1x_2, y_1y_2, y_1z_2, z_1x_2, z_1y_2, z_1z_2)^{\\mathsf{T}} \\in \\mathbb{R}^9\n",
    "$$\n",
    "\n",
    "因此原始可以表达为：\n",
    "$$\n",
    "x_2^{\\mathsf{T}} E x_1 = a^{\\mathsf{T}} E^s  = 0\n",
    "$$\n",
    "相当于解耦了单对点的表达！\n",
    "\n",
    "n对点，那么直接表达为$ \\chi = (a^1, a^2, \\ldots, a^n)^{\\mathsf{T}} \\in \\mathbb{R}^{n \\times 9}$，那么原式为：\n",
    "$$\n",
    "\\chi E^s = 0\n",
    "$$"
   ]
  },
  {
   "cell_type": "markdown",
   "metadata": {},
   "source": [
    "若需要有奇异解，那么方程秩应为8，因此至少需要八个独立的点。\n",
    "\n",
    "- 如果所有点再一条线上或一个平面上，那么解可能不奇异（the solution for the essential matrix is not unique even if we have 8 or more point pairs, for example,  all points lie on a line or on a plane.）\n",
    "\n",
    "- 此外，由于矩阵的特别性，难以确定E的符号正负（not be able to recover the sign of E）,结合每个本征矩阵有两组解，因此可能共有四组解。"
   ]
  },
  {
   "cell_type": "markdown",
   "metadata": {},
   "source": [
    "#### Projection onto Essential Space"
   ]
  },
  {
   "cell_type": "markdown",
   "metadata": {},
   "source": [
    "在一般的情况下，估计矩阵可能难以直接对饮本征矩阵，因此可以将解映射回本征空间中。\n",
    "\n",
    "若求解得到为矩阵F，经过SVD分解后为$ F = U \\mathrm{diag}\\{ \\lambda_1, \\lambda_2, \\lambda_3\\} V^{\\mathsf{T}}, \\quad \\lambda_1 \\geq \\lambda_2 \\geq \\lambda_3 $，因此，对应能够最小化F范数的矩阵$ \\Vert F - E \\Vert_F^2 $，可得：\n",
    "$$\n",
    "E = U \\mathrm{diag}\\{ \\sigma, \\sigma, 0\\} V^{\\mathsf{T}}\n",
    "$$\n",
    "其中，$ \\sigma = \\frac{\\lambda_1 + \\lambda_2}{2} $"
   ]
  },
  {
   "cell_type": "markdown",
   "metadata": {},
   "source": [
    "#### Eight Point Algorithm (Longuet-Higgins ’81)"
   ]
  },
  {
   "cell_type": "markdown",
   "metadata": {},
   "source": [
    "- 首先进行本征矩阵的估计，使最小化$ \\Vert \\chi E^s \\Vert $\n",
    "\n",
    "- 投影到本征空间，然后进行正则化，最后将$ (\\sigma_1, \\sigma_2, \\sigma_3) $以$ (1, 1, 0) $代替\n",
    "\n",
    "- 然后推估出旋转与平移矩阵，共有四组解：\n",
    "$$\n",
    "R = U R_Z^{\\mathsf{T}}(\\pm \\frac{\\pi}{2})V^{\\mathsf{T}}, \\\\\n",
    "\\hat{T} = U R_Z (\\pm \\frac{\\pi}{2})U^{\\mathsf{T}}, \\\\\n",
    "$$"
   ]
  },
  {
   "cell_type": "markdown",
   "metadata": {},
   "source": [
    "#### Do We Need Eight Points?"
   ]
  },
  {
   "cell_type": "markdown",
   "metadata": {},
   "source": [
    "直接利用E的性质的化，只需要四个点即可，因为E只有5个自由度。\n",
    "\n",
    "- 其中一个方式$ \\mathrm{det}(E) = 0 $可以用来检验\n",
    "- 弱国对于八点算法，使用七点的化，可以得到$ E_1 $与$ E_2 $的线性组合，然后通过下式得到最终结果：\n",
    "$$\n",
    "\\mathrm{det} (E_1 + \\alpha E_2) = 0\n",
    "$$\n",
    "\n",
    "相似地，如果运动形式较为简单，如简单的平移或者旋转运动，那么只需要较少的特征点对。（In the case of degenerate motion (for example planar or circular motion), one can resolve the problem with even fewer point pairs.）\n"
   ]
  },
  {
   "cell_type": "markdown",
   "metadata": {},
   "source": [
    "#### Limitations and Further Extensions"
   ]
  },
  {
   "cell_type": "markdown",
   "metadata": {},
   "source": [
    "- 对于可能的四组解，应该可以根据投影关系有意义的一组解；\n",
    "- 由于$ E = \\hat{T} R \\in \\mathbb{R}^{3 \\times 3} $，那么当镜头完全平移运动的时候，E就无法导出。（但是因为噪声的存在，一般不会发生）\n",
    "- 假设有无穷小的势角变换（infinitesimal view point change），那么八点算法可中的极点约束可能被连续点约束所替代，从而计算出角/线速度；\n",
    "- 在特别的运动物体重建时，可以拓展出额外的极点约束，从而实现两个运动之积为：\n",
    "$$\n",
    "(x_2^{\\mathsf{T}} E_1 x_1)(x_2^{\\mathsf{T}} E_2 x_1)  = 0\n",
    "$$\n",
    "\n",
    "然后借助多项式分解与多对点，实现求解（Given a sufficiently large\n",
    "number of point pairs, one can solve the respective equations\n",
    "for multiple essential matrices using polynomial factorization.）"
   ]
  },
  {
   "cell_type": "markdown",
   "metadata": {},
   "source": [
    "### Structure Reconstruction"
   ]
  },
  {
   "cell_type": "markdown",
   "metadata": {},
   "source": [
    "❗ 待补充，有以及相机运动和双视角对应的数据点，求取**三维点的坐标和基线的尺寸**。"
   ]
  },
  {
   "cell_type": "markdown",
   "metadata": {},
   "source": [
    "#### Optimality in Noisy Real World Conditions"
   ]
  },
  {
   "cell_type": "markdown",
   "metadata": {},
   "source": [
    "尽管八点法已有较好的性质，尤其我们可以找到比世界，并且基于奇异值分解得到相机内参以及三维结构。但是现实世界存在很多带有噪音的数据（如对应关系不准确或对应不正确），可能有以下两种结果：\n",
    "\n",
    "- 对于求取的旋转R与T无法保证真值\n",
    "- 无法保证完成一个合理的重建结果"
   ]
  },
  {
   "cell_type": "markdown",
   "metadata": {},
   "source": [
    "#### Nonlinear Optimization Methods"
   ]
  },
  {
   "cell_type": "markdown",
   "metadata": {},
   "source": [
    "❗ 后续版本幻灯片无此部分内容"
   ]
  },
  {
   "cell_type": "markdown",
   "metadata": {},
   "source": [
    "#### Bundle Adjustment"
   ]
  },
  {
   "cell_type": "markdown",
   "metadata": {},
   "source": [
    "❗ 后续版本幻灯片无此部分内容，可以了解！"
   ]
  },
  {
   "cell_type": "markdown",
   "metadata": {},
   "source": [
    "#### Degenerate Configurations"
   ]
  },
  {
   "cell_type": "markdown",
   "metadata": {},
   "source": [
    "❗ 不是很懂前面的部分\n",
    "\n",
    "- 对于8-point algorithm，如果出现所有点在一个平面上，就会产生失效（a specific degenerate configuration which does arise often is the case that all points lie on a 2D plane）\n",
    "\n",
    "- 对于4-point algorithm，相反的假设不一样：部分点在平面，可以施加额外的限制（For the structure-from-motion problem in the context of points on a plane, one can exploit additional constraints）\n"
   ]
  },
  {
   "cell_type": "markdown",
   "metadata": {},
   "source": [
    "### Four-Point Algorithm"
   ]
  },
  {
   "cell_type": "markdown",
   "metadata": {},
   "source": [
    "#### Planar Homographies"
   ]
  },
  {
   "cell_type": "markdown",
   "metadata": {},
   "source": [
    "#### From Point Pairs to Homography"
   ]
  },
  {
   "cell_type": "markdown",
   "metadata": {},
   "source": [
    "#### The Four Point Algorithm"
   ]
  },
  {
   "cell_type": "markdown",
   "metadata": {},
   "source": [
    "#### General Comments"
   ]
  },
  {
   "cell_type": "markdown",
   "metadata": {},
   "source": [
    "### The Uncalibrated Case"
   ]
  },
  {
   "cell_type": "markdown",
   "metadata": {},
   "source": [
    "#### The Case of an Uncalibrated Camera"
   ]
  },
  {
   "cell_type": "markdown",
   "metadata": {},
   "source": [
    "#### The Fundamental Matrix"
   ]
  },
  {
   "cell_type": "markdown",
   "metadata": {},
   "source": [
    "#### Limitations"
   ]
  }
 ],
 "metadata": {
  "kernelspec": {
   "display_name": "Python 3",
   "language": "python",
   "name": "python3"
  },
  "language_info": {
   "codemirror_mode": {
    "name": "ipython",
    "version": 3
   },
   "file_extension": ".py",
   "mimetype": "text/x-python",
   "name": "python",
   "nbconvert_exporter": "python",
   "pygments_lexer": "ipython3",
   "version": "3.7.2"
  },
  "toc": {
   "base_numbering": 1,
   "nav_menu": {},
   "number_sections": false,
   "sideBar": true,
   "skip_h1_title": false,
   "title_cell": "Table of Contents",
   "title_sidebar": "Contents",
   "toc_cell": true,
   "toc_position": {},
   "toc_section_display": true,
   "toc_window_display": false
  },
  "varInspector": {
   "cols": {
    "lenName": 16,
    "lenType": 16,
    "lenVar": 40
   },
   "kernels_config": {
    "python": {
     "delete_cmd_postfix": "",
     "delete_cmd_prefix": "del ",
     "library": "var_list.py",
     "varRefreshCmd": "print(var_dic_list())"
    },
    "r": {
     "delete_cmd_postfix": ") ",
     "delete_cmd_prefix": "rm(",
     "library": "var_list.r",
     "varRefreshCmd": "cat(var_dic_list()) "
    }
   },
   "types_to_exclude": [
    "module",
    "function",
    "builtin_function_or_method",
    "instance",
    "_Feature"
   ],
   "window_display": true
  }
 },
 "nbformat": 4,
 "nbformat_minor": 2
}
