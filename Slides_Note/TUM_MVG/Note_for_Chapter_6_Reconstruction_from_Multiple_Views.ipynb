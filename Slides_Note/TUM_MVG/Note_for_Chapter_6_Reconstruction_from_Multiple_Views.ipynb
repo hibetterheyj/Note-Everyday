{
 "cells": [
  {
   "cell_type": "markdown",
   "metadata": {
    "toc": true
   },
   "source": [
    "<h1>Table of Contents<span class=\"tocSkip\"></span></h1>\n",
    "<div class=\"toc\"><ul class=\"toc-item\"><li><span><a href=\"#Note-for-Chapter-6-Reconstruction-from-Multiple-Views\" data-toc-modified-id=\"Note-for-Chapter-6-Reconstruction-from-Multiple-Views-1\">Note for Chapter 6 Reconstruction from Multiple Views</a></span><ul class=\"toc-item\"><li><span><a href=\"#From-Two-Views-to-Multiple-Views\" data-toc-modified-id=\"From-Two-Views-to-Multiple-Views-1.1\">From Two Views to Multiple Views</a></span><ul class=\"toc-item\"><li><span><a href=\"#Multiple-View-Geometry\" data-toc-modified-id=\"Multiple-View-Geometry-1.1.1\">Multiple-View Geometry</a></span></li><li><span><a href=\"#Trifocal-Tensor-versus-Multiview-Matrices\" data-toc-modified-id=\"Trifocal-Tensor-versus-Multiview-Matrices-1.1.2\">Trifocal Tensor versus Multiview Matrices</a></span></li></ul></li><li><span><a href=\"#Preimage-&amp;-Coimage-from-Multiple-Views\" data-toc-modified-id=\"Preimage-&amp;-Coimage-from-Multiple-Views-1.2\">Preimage &amp; Coimage from Multiple Views</a></span><ul class=\"toc-item\"><li><span><a href=\"#Preimage-from-Multiple-Views\" data-toc-modified-id=\"Preimage-from-Multiple-Views-1.2.1\">Preimage from Multiple Views</a></span></li><li><span><a href=\"#Preimage-and-Coimage-of-Points-and-Lines\" data-toc-modified-id=\"Preimage-and-Coimage-of-Points-and-Lines-1.2.2\">Preimage and Coimage of Points and Lines</a></span></li></ul></li><li><span><a href=\"#From-Preimages-to-Rank-Constraints\" data-toc-modified-id=\"From-Preimages-to-Rank-Constraints-1.3\">From Preimages to Rank Constraints</a></span><ul class=\"toc-item\"><li><span><a href=\"#Point-Features\" data-toc-modified-id=\"Point-Features-1.3.1\">Point Features</a></span></li><li><span><a href=\"#Line-Features\" data-toc-modified-id=\"Line-Features-1.3.2\">Line Features</a></span></li></ul></li><li><span><a href=\"#Geometric-Interpretation\" data-toc-modified-id=\"Geometric-Interpretation-1.4\">Geometric Interpretation</a></span></li><li><span><a href=\"#The-Multiple-view-Matrix\" data-toc-modified-id=\"The-Multiple-view-Matrix-1.5\">The Multiple-view Matrix</a></span></li><li><span><a href=\"#Relation-to-Epipolar-Constraints\" data-toc-modified-id=\"Relation-to-Epipolar-Constraints-1.6\">Relation to Epipolar Constraints</a></span></li><li><span><a href=\"#Multiple-View-Reconstruction-Algorithms\" data-toc-modified-id=\"Multiple-View-Reconstruction-Algorithms-1.7\">Multiple-View Reconstruction Algorithms</a></span></li><li><span><a href=\"#Multiple-View-Reconstruction-of-Lines\" data-toc-modified-id=\"Multiple-View-Reconstruction-of-Lines-1.8\">Multiple-View Reconstruction of Lines</a></span></li></ul></li></ul></div>"
   ]
  },
  {
   "cell_type": "markdown",
   "metadata": {},
   "source": [
    "## Note for Chapter 6 Reconstruction from Multiple Views"
   ]
  },
  {
   "cell_type": "markdown",
   "metadata": {},
   "source": [
    "- bilibili视频[lecture10](https://www.bilibili.com/video/av24149942?p=10)\n",
    "\n",
    "- 参考书目\n",
    "\n",
    "```\n",
    "Ma, Yi, et al. An invitation to 3-d vision: from images to geometric models. Vol. 26. Springer Science & Business Media, 2012.\n",
    "```"
   ]
  },
  {
   "cell_type": "markdown",
   "metadata": {},
   "source": [
    "### From Two Views to Multiple Views"
   ]
  },
  {
   "cell_type": "markdown",
   "metadata": {},
   "source": [
    "#### Multiple-View Geometry"
   ]
  },
  {
   "cell_type": "markdown",
   "metadata": {},
   "source": [
    "#### Trifocal Tensor versus Multiview Matrices"
   ]
  },
  {
   "cell_type": "markdown",
   "metadata": {},
   "source": [
    "### Preimage & Coimage from Multiple Views"
   ]
  },
  {
   "cell_type": "markdown",
   "metadata": {},
   "source": [
    "#### Preimage from Multiple Views"
   ]
  },
  {
   "cell_type": "markdown",
   "metadata": {},
   "source": [
    "#### Preimage and Coimage of Points and Lines"
   ]
  },
  {
   "cell_type": "markdown",
   "metadata": {},
   "source": [
    "### From Preimages to Rank Constraints"
   ]
  },
  {
   "cell_type": "markdown",
   "metadata": {},
   "source": [
    "❗ 同名slide"
   ]
  },
  {
   "cell_type": "markdown",
   "metadata": {},
   "source": [
    "#### Point Features"
   ]
  },
  {
   "cell_type": "markdown",
   "metadata": {},
   "source": [
    "#### Line Features"
   ]
  },
  {
   "cell_type": "markdown",
   "metadata": {},
   "source": [
    "### Geometric Interpretation"
   ]
  },
  {
   "cell_type": "markdown",
   "metadata": {},
   "source": [
    "### The Multiple-view Matrix"
   ]
  },
  {
   "cell_type": "markdown",
   "metadata": {},
   "source": [
    "### Relation to Epipolar Constraints"
   ]
  },
  {
   "cell_type": "markdown",
   "metadata": {},
   "source": [
    "### Multiple-View Reconstruction Algorithms"
   ]
  },
  {
   "cell_type": "markdown",
   "metadata": {},
   "source": [
    "### Multiple-View Reconstruction of Lines"
   ]
  },
  {
   "cell_type": "markdown",
   "metadata": {},
   "source": [
    "❗ 未完，待补充"
   ]
  }
 ],
 "metadata": {
  "kernelspec": {
   "display_name": "Python 3",
   "language": "python",
   "name": "python3"
  },
  "language_info": {
   "codemirror_mode": {
    "name": "ipython",
    "version": 3
   },
   "file_extension": ".py",
   "mimetype": "text/x-python",
   "name": "python",
   "nbconvert_exporter": "python",
   "pygments_lexer": "ipython3",
   "version": "3.7.2"
  },
  "toc": {
   "base_numbering": 1,
   "nav_menu": {},
   "number_sections": false,
   "sideBar": true,
   "skip_h1_title": false,
   "title_cell": "Table of Contents",
   "title_sidebar": "Contents",
   "toc_cell": true,
   "toc_position": {},
   "toc_section_display": true,
   "toc_window_display": false
  },
  "varInspector": {
   "cols": {
    "lenName": 16,
    "lenType": 16,
    "lenVar": 40
   },
   "kernels_config": {
    "python": {
     "delete_cmd_postfix": "",
     "delete_cmd_prefix": "del ",
     "library": "var_list.py",
     "varRefreshCmd": "print(var_dic_list())"
    },
    "r": {
     "delete_cmd_postfix": ") ",
     "delete_cmd_prefix": "rm(",
     "library": "var_list.r",
     "varRefreshCmd": "cat(var_dic_list()) "
    }
   },
   "types_to_exclude": [
    "module",
    "function",
    "builtin_function_or_method",
    "instance",
    "_Feature"
   ],
   "window_display": false
  }
 },
 "nbformat": 4,
 "nbformat_minor": 2
}
