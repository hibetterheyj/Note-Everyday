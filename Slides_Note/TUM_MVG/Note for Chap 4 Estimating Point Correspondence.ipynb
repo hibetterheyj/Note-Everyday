{
 "cells": [
  {
   "cell_type": "markdown",
   "metadata": {
    "toc": true
   },
   "source": [
    "<h1>Table of Contents<span class=\"tocSkip\"></span></h1>\n",
    "<div class=\"toc\"><ul class=\"toc-item\"><li><span><a href=\"#Note-for-Chap-4-Estimating-Point-Correspondence\" data-toc-modified-id=\"Note-for-Chap-4-Estimating-Point-Correspondence-1\">Note for Chap 4 Estimating Point Correspondence</a></span><ul class=\"toc-item\"><li><span><a href=\"#From-Photometry-to-Geometry\" data-toc-modified-id=\"From-Photometry-to-Geometry-1.1\">From Photometry to Geometry</a></span><ul class=\"toc-item\"><li><span><a href=\"#Non-rigid-Deformation\" data-toc-modified-id=\"Non-rigid-Deformation-1.1.1\">Non-rigid Deformation</a></span></li><li><span><a href=\"#Small-Deformation-versus-Wide-Baseline\" data-toc-modified-id=\"Small-Deformation-versus-Wide-Baseline-1.1.2\">Small Deformation versus Wide Baseline</a></span></li></ul></li><li><span><a href=\"#Small-Deformation-&amp;-Optical-Flow\" data-toc-modified-id=\"Small-Deformation-&amp;-Optical-Flow-1.2\">Small Deformation &amp; Optical Flow</a></span><ul class=\"toc-item\"><li><span><a href=\"#Small-Deformation\" data-toc-modified-id=\"Small-Deformation-1.2.1\">Small Deformation</a></span></li><li><span><a href=\"#Optic-Flow-Estimation\" data-toc-modified-id=\"Optic-Flow-Estimation-1.2.2\">Optic Flow Estimation</a></span></li></ul></li><li><span><a href=\"#The-Lucas-Kanade-Method\" data-toc-modified-id=\"The-Lucas-Kanade-Method-1.3\">The Lucas-Kanade Method</a></span><ul class=\"toc-item\"><li><span><a href=\"#The-Lucas-Kanade-Method\" data-toc-modified-id=\"The-Lucas-Kanade-Method-1.3.1\">The Lucas-Kanade Method</a></span></li><li><span><a href=\"#Estimating-Local-Displacements\" data-toc-modified-id=\"Estimating-Local-Displacements-1.3.2\">Estimating Local Displacements</a></span></li><li><span><a href=\"#When-can-Small-Motion-be-Estimated?\" data-toc-modified-id=\"When-can-Small-Motion-be-Estimated?-1.3.3\">When can Small Motion be Estimated?</a></span></li><li><span><a href=\"#A-Simple-Feature-Tracking-Algorithm\" data-toc-modified-id=\"A-Simple-Feature-Tracking-Algorithm-1.3.4\">A Simple Feature Tracking Algorithm</a></span></li></ul></li><li><span><a href=\"#Feature-Point-Extraction\" data-toc-modified-id=\"Feature-Point-Extraction-1.4\">Feature Point Extraction</a></span><ul class=\"toc-item\"><li><span><a href=\"#Robust-Feature-Point-Extraction\" data-toc-modified-id=\"Robust-Feature-Point-Extraction-1.4.1\">Robust Feature Point Extraction</a></span></li></ul></li><li><span><a href=\"#Wide-Baseline-Matching\" data-toc-modified-id=\"Wide-Baseline-Matching-1.5\">Wide Baseline Matching</a></span><ul class=\"toc-item\"><li><span><a href=\"#Wide-Baseline-Matching\" data-toc-modified-id=\"Wide-Baseline-Matching-1.5.1\">Wide Baseline Matching</a></span></li><li><span><a href=\"#Extensions-to-Larger-Baseline\" data-toc-modified-id=\"Extensions-to-Larger-Baseline-1.5.2\">Extensions to Larger Baseline</a></span></li><li><span><a href=\"#Normalized-Cross-Correlation\" data-toc-modified-id=\"Normalized-Cross-Correlation-1.5.3\">Normalized Cross Correlation</a></span></li><li><span><a href=\"#Special-Case:-Optimal-Affine-Transformation\" data-toc-modified-id=\"Special-Case:-Optimal-Affine-Transformation-1.5.4\">Special Case: Optimal Affine Transformation</a></span></li></ul></li></ul></li></ul></div>"
   ]
  },
  {
   "cell_type": "markdown",
   "metadata": {},
   "source": [
    "## Note for Chap 4 Estimating Point Correspondence"
   ]
  },
  {
   "cell_type": "markdown",
   "metadata": {},
   "source": [
    "- bilibili视频[lecture6](https://www.bilibili.com/video/av24149942?p=6)\n",
    "\n",
    "- 参考书目\n",
    "\n",
    "```\n",
    "Ma, Yi, et al. An invitation to 3-d vision: from images to geometric models. Vol. 26. Springer Science & Business Media, 2012.\n",
    "```"
   ]
  },
  {
   "cell_type": "markdown",
   "metadata": {},
   "source": [
    "### From Photometry to Geometry"
   ]
  },
  {
   "cell_type": "markdown",
   "metadata": {},
   "source": [
    "In practice, we do not actually observe points or lines, but rather **brightness or color values** at the individual pixels\n",
    "\n",
    "主要关注光照和颜色的变化而非直接关注点与线的变化\n",
    "\n",
    "- photometric representation ==> geometric epresentation\n",
    "    - 使用特征表达点identify points with characteristic image features\n",
    "    - 寻找关联性：associate these points with corresponding points\n",
    "\n",
    "通过关键点的匹配可以帮助探知3D结构，但是，本方法是次优的：选出少量关键点，然后会丢失掉大量可能存在有用信息的特征点（this\n",
    "approach is suboptimal: By **selecting a small number of feature points** from each image, we **throw away a large amount of potentially useful information** contained in each image）\n",
    "\n",
    "- Limitations：\n",
    "    - retaining all image information is computationally challenging\n",
    "    - tracking of 3D objects from a moving camera in real time - even with limited processing power\n",
    "    "
   ]
  },
  {
   "cell_type": "markdown",
   "metadata": {},
   "source": [
    "#### Non-rigid Deformation"
   ]
  },
  {
   "cell_type": "markdown",
   "metadata": {},
   "source": [
    "在一般算法中，假设物体进行刚体运动：但是现实世界中有可能发生变形（deformation）与遮挡（occlusion）"
   ]
  },
  {
   "cell_type": "markdown",
   "metadata": {},
   "source": [
    "#### Small Deformation versus Wide Baseline"
   ]
  },
  {
   "cell_type": "markdown",
   "metadata": {},
   "source": [
    "在点的匹配主要看两种情况——小形变（Small deformation）与（Wide baseline stereo）：\n",
    "\n",
    "- Small deformation：one frame to the other is assumed to be (infinitesimally) small，使用光流方法解决\n",
    "    - Lucas/Kanade (sparse)\n",
    "    - Horn/Schunck (dense)\n",
    "    one can also track the displacement of a few feature points which is typically faster （跟踪一系列点还可以较快的速度）\n",
    "\n",
    "- Wide baseline stereo：the displacement is assumed to be large.\n",
    "    - one typically selects a small number of feature points in each\n",
    "of the images and develops efficient methods to find an appropriate pairing of points.（需要开发出更为高效的方法去实现实时少数点的匹配）"
   ]
  },
  {
   "cell_type": "markdown",
   "metadata": {},
   "source": [
    "### Small Deformation & Optical Flow"
   ]
  },
  {
   "cell_type": "markdown",
   "metadata": {},
   "source": [
    "#### Small Deformation"
   ]
  },
  {
   "cell_type": "markdown",
   "metadata": {},
   "source": [
    "> 参考书目第70页\n",
    "\n",
    "one can envision two opposite strategies: \n",
    "- **one is to choose a complex transformation that captures the changes undergone by the entire image**, or \n",
    "- **one can pick a simple transformation, and then restrict the attention to only those regions in the image whose motion can be captured, within reasonable bounds, by the chosen transformation.**\n",
    "\n",
    "本部分主要主要关注后面的情况，假设对一静止物体的不同角度进行建模，现有图上对应点$ \\mathbf{x_1}, \\mathbf{x_2} $；假设两相机间的位移为刚体运动$ (R, T) $（displacement between the two camera viewpoints is a rigid-body motion.），如下所示：\n",
    "$$\n",
    "\\mathbf{x_2} = h(\\mathbf{x_1}) = \\frac{1}{\\lambda_2(\\mathbf{X})}\n",
    "(R \\lambda_1(\\mathbf{X}) + T)\n",
    "$$\n",
    "\n",
    "在局部则可以对于运动函数$ h $进行建模（The function h describes the transformation of the domain, or \"image motion,\"）：\n",
    "\n",
    "- 平移模型Translational model：\n",
    "\n",
    "$$ h(x) = x + b $$\n",
    "其中，$ b $为偏移offset\n",
    "\n",
    "- 仿射模型Affine model：\n",
    "$$ h(x) = Ax + b $$\n",
    "\n",
    "![Two basic types of local domain W (x) deformation. Left: translational; right:\n",
    "affine](./Image/Chap4_affine.jpg)\n",
    "\n",
    "This model is a good approximation for small\n",
    "planar patches parallel to the image plane undergoing an arbitrary translation and\n",
    "rotation about the optical axis, and modest rotation about an axis orthogonal to it.\n",
    "\n",
    "特别地，2D放射模型可以如下所示：\n",
    "$$ h(x) = x + u(x)\\ , $$\n",
    "其中\n",
    "$$ u(x) = S(x)p\n",
    "= \\left( \\begin{array}{cccccc}\n",
    "x & y & 1 & 0 & 0 & 0 \\\\\n",
    "0 & 0 & 0 & x & y & 1\n",
    "\\end{array} \\right)\n",
    "\\left( \\begin{array}{cccccc}\n",
    "p_1 & p_2 & p_3 & p_4 & p_5 & p_6\n",
    "\\end{array} \\right)^{\\mathsf{T}}\n",
    "=\n",
    "\\left( \\begin{array}{c}\n",
    "xp_1 + yp_2 + p_3 \\\\ xp_4 + yp_5 + p_6\n",
    "\\end{array} \\right)\n",
    "\\ . $$"
   ]
  },
  {
   "cell_type": "markdown",
   "metadata": {
    "heading_collapsed": true
   },
   "source": [
    "#### Optic Flow Estimation"
   ]
  },
  {
   "cell_type": "markdown",
   "metadata": {},
   "source": [
    "### The Lucas-Kanade Method"
   ]
  },
  {
   "cell_type": "markdown",
   "metadata": {},
   "source": [
    "#### The Lucas-Kanade Method"
   ]
  },
  {
   "cell_type": "markdown",
   "metadata": {},
   "source": [
    "❗ 更多待补充，标题可以考虑删除"
   ]
  },
  {
   "cell_type": "markdown",
   "metadata": {},
   "source": [
    "#### Estimating Local Displacements"
   ]
  },
  {
   "cell_type": "markdown",
   "metadata": {},
   "source": [
    "#### When can Small Motion be Estimated?"
   ]
  },
  {
   "cell_type": "markdown",
   "metadata": {},
   "source": [
    "#### A Simple Feature Tracking Algorithm"
   ]
  },
  {
   "cell_type": "markdown",
   "metadata": {},
   "source": [
    "### Feature Point Extraction"
   ]
  },
  {
   "cell_type": "markdown",
   "metadata": {},
   "source": [
    "#### Robust Feature Point Extraction"
   ]
  },
  {
   "cell_type": "markdown",
   "metadata": {},
   "source": [
    "### Wide Baseline Matching"
   ]
  },
  {
   "cell_type": "markdown",
   "metadata": {},
   "source": [
    "#### Wide Baseline Matching"
   ]
  },
  {
   "cell_type": "markdown",
   "metadata": {},
   "source": [
    "❗ 更多待补充，标题可以考虑删除"
   ]
  },
  {
   "cell_type": "markdown",
   "metadata": {},
   "source": [
    "#### Extensions to Larger Baseline"
   ]
  },
  {
   "cell_type": "markdown",
   "metadata": {},
   "source": [
    "#### Normalized Cross Correlation"
   ]
  },
  {
   "cell_type": "markdown",
   "metadata": {},
   "source": [
    "#### Special Case: Optimal Affine Transformation"
   ]
  },
  {
   "cell_type": "markdown",
   "metadata": {},
   "source": [
    "❗ 更多待补充"
   ]
  }
 ],
 "metadata": {
  "kernelspec": {
   "display_name": "Python 3",
   "language": "python",
   "name": "python3"
  },
  "language_info": {
   "codemirror_mode": {
    "name": "ipython",
    "version": 3
   },
   "file_extension": ".py",
   "mimetype": "text/x-python",
   "name": "python",
   "nbconvert_exporter": "python",
   "pygments_lexer": "ipython3",
   "version": "3.7.2"
  },
  "toc": {
   "base_numbering": 1,
   "nav_menu": {},
   "number_sections": false,
   "sideBar": true,
   "skip_h1_title": false,
   "title_cell": "Table of Contents",
   "title_sidebar": "Contents",
   "toc_cell": true,
   "toc_position": {},
   "toc_section_display": true,
   "toc_window_display": false
  },
  "varInspector": {
   "cols": {
    "lenName": 16,
    "lenType": 16,
    "lenVar": 40
   },
   "kernels_config": {
    "python": {
     "delete_cmd_postfix": "",
     "delete_cmd_prefix": "del ",
     "library": "var_list.py",
     "varRefreshCmd": "print(var_dic_list())"
    },
    "r": {
     "delete_cmd_postfix": ") ",
     "delete_cmd_prefix": "rm(",
     "library": "var_list.r",
     "varRefreshCmd": "cat(var_dic_list()) "
    }
   },
   "types_to_exclude": [
    "module",
    "function",
    "builtin_function_or_method",
    "instance",
    "_Feature"
   ],
   "window_display": true
  }
 },
 "nbformat": 4,
 "nbformat_minor": 2
}
