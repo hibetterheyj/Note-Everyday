{
 "cells": [
  {
   "cell_type": "markdown",
   "metadata": {
    "toc": true
   },
   "source": [
    "<h1>Table of Contents<span class=\"tocSkip\"></span></h1>\n",
    "<div class=\"toc\"><ul class=\"toc-item\"><li><span><a href=\"#Note-for-Chapter-5-Reconstruction-from-Two-Views-Linear-Algorithms\" data-toc-modified-id=\"Note-for-Chapter-5-Reconstruction-from-Two-Views-Linear-Algorithms-1\">Note for Chapter 5 Reconstruction from Two Views-Linear Algorithms</a></span><ul class=\"toc-item\"><li><span><a href=\"#The-Reconstruction-Problem\" data-toc-modified-id=\"The-Reconstruction-Problem-1.1\">The Reconstruction Problem</a></span><ul class=\"toc-item\"><li><span><a href=\"#Problem-Formulation\" data-toc-modified-id=\"Problem-Formulation-1.1.1\">Problem Formulation</a></span></li><li><span><a href=\"#The-Reconstruction-Problem\" data-toc-modified-id=\"The-Reconstruction-Problem-1.1.2\">The Reconstruction Problem</a></span></li><li><span><a href=\"#Epipolar-Geometry:-Some-Notation\" data-toc-modified-id=\"Epipolar-Geometry:-Some-Notation-1.1.3\">Epipolar Geometry: Some Notation</a></span></li></ul></li><li><span><a href=\"#The-Epipolar-Constraint\" data-toc-modified-id=\"The-Epipolar-Constraint-1.2\">The Epipolar Constraint</a></span><ul class=\"toc-item\"><li><span><a href=\"#Properties-of-the-Essential-Matrix-$-E-$\" data-toc-modified-id=\"Properties-of-the-Essential-Matrix-$-E-$-1.2.1\">Properties of the Essential Matrix $ E $</a></span></li></ul></li><li><span><a href=\"#Eight-Point-Algorithm\" data-toc-modified-id=\"Eight-Point-Algorithm-1.3\">Eight-Point Algorithm</a></span><ul class=\"toc-item\"><li><span><a href=\"#A-Basic-Reconstruction-Algorithm\" data-toc-modified-id=\"A-Basic-Reconstruction-Algorithm-1.3.1\">A Basic Reconstruction Algorithm</a></span></li><li><span><a href=\"#The-Eight-Point-Linear-Algorithm\" data-toc-modified-id=\"The-Eight-Point-Linear-Algorithm-1.3.2\">The Eight-Point Linear Algorithm</a></span></li><li><span><a href=\"#Projection-onto-Essential-Space\" data-toc-modified-id=\"Projection-onto-Essential-Space-1.3.3\">Projection onto Essential Space</a></span></li><li><span><a href=\"#Eight-Point-Algorithm-(Longuet-Higgins-’81)\" data-toc-modified-id=\"Eight-Point-Algorithm-(Longuet-Higgins-’81)-1.3.4\">Eight Point Algorithm (Longuet-Higgins ’81)</a></span></li><li><span><a href=\"#Do-We-Need-Eight-Points?\" data-toc-modified-id=\"Do-We-Need-Eight-Points?-1.3.5\">Do We Need Eight Points?</a></span></li><li><span><a href=\"#Limitations-and-Further-Extensions\" data-toc-modified-id=\"Limitations-and-Further-Extensions-1.3.6\">Limitations and Further Extensions</a></span></li></ul></li><li><span><a href=\"#Structure-Reconstruction\" data-toc-modified-id=\"Structure-Reconstruction-1.4\">Structure Reconstruction</a></span><ul class=\"toc-item\"><li><span><a href=\"#Example\" data-toc-modified-id=\"Example-1.4.1\">Example</a></span></li><li><span><a href=\"#Degenerate-Configurations\" data-toc-modified-id=\"Degenerate-Configurations-1.4.2\">Degenerate Configurations</a></span></li></ul></li><li><span><a href=\"#Four-Point-Algorithm\" data-toc-modified-id=\"Four-Point-Algorithm-1.5\">Four-Point Algorithm</a></span><ul class=\"toc-item\"><li><span><a href=\"#Planar-Homographies\" data-toc-modified-id=\"Planar-Homographies-1.5.1\">Planar Homographies</a></span></li><li><span><a href=\"#From-Point-Pairs-to-Homography\" data-toc-modified-id=\"From-Point-Pairs-to-Homography-1.5.2\">From Point Pairs to Homography</a></span></li><li><span><a href=\"#The-Four-Point-Algorithm\" data-toc-modified-id=\"The-Four-Point-Algorithm-1.5.3\">The Four Point Algorithm</a></span></li><li><span><a href=\"#General-Comments\" data-toc-modified-id=\"General-Comments-1.5.4\">General Comments</a></span></li></ul></li><li><span><a href=\"#The-Uncalibrated-Case\" data-toc-modified-id=\"The-Uncalibrated-Case-1.6\">The Uncalibrated Case</a></span><ul class=\"toc-item\"><li><span><a href=\"#The-Case-of-an-Uncalibrated-Camera\" data-toc-modified-id=\"The-Case-of-an-Uncalibrated-Camera-1.6.1\">The Case of an Uncalibrated Camera</a></span></li><li><span><a href=\"#The-Fundamental-Matrix\" data-toc-modified-id=\"The-Fundamental-Matrix-1.6.2\">The Fundamental Matrix</a></span></li><li><span><a href=\"#Limitations\" data-toc-modified-id=\"Limitations-1.6.3\">Limitations</a></span></li></ul></li></ul></li></ul></div>"
   ]
  },
  {
   "cell_type": "markdown",
   "metadata": {},
   "source": [
    "## Note for Chapter 5 Reconstruction from Two Views-Linear Algorithms"
   ]
  },
  {
   "cell_type": "markdown",
   "metadata": {},
   "source": [
    "- bilibili视频[lecture8](https://www.bilibili.com/video/av24149942?p=8)\n",
    "\n",
    "- 参考书目\n",
    "\n",
    "```\n",
    "Ma, Yi, et al. An invitation to 3-d vision: from images to geometric models. Vol. 26. Springer Science & Business Media, 2012.\n",
    "```"
   ]
  },
  {
   "cell_type": "markdown",
   "metadata": {},
   "source": [
    "### The Reconstruction Problem"
   ]
  },
  {
   "cell_type": "markdown",
   "metadata": {},
   "source": [
    "#### Problem Formulation"
   ]
  },
  {
   "cell_type": "markdown",
   "metadata": {},
   "source": [
    "#### The Reconstruction Problem"
   ]
  },
  {
   "cell_type": "markdown",
   "metadata": {},
   "source": [
    "#### Epipolar Geometry: Some Notation"
   ]
  },
  {
   "cell_type": "markdown",
   "metadata": {},
   "source": [
    "### The Epipolar Constraint"
   ]
  },
  {
   "cell_type": "markdown",
   "metadata": {},
   "source": [
    "❗ 同名Slide"
   ]
  },
  {
   "cell_type": "markdown",
   "metadata": {},
   "source": [
    "#### Properties of the Essential Matrix $ E $"
   ]
  },
  {
   "cell_type": "markdown",
   "metadata": {},
   "source": [
    "### Eight-Point Algorithm"
   ]
  },
  {
   "cell_type": "markdown",
   "metadata": {},
   "source": [
    "#### A Basic Reconstruction Algorithm"
   ]
  },
  {
   "cell_type": "markdown",
   "metadata": {},
   "source": [
    "#### The Eight-Point Linear Algorithm"
   ]
  },
  {
   "cell_type": "markdown",
   "metadata": {},
   "source": [
    "#### Projection onto Essential Space"
   ]
  },
  {
   "cell_type": "markdown",
   "metadata": {},
   "source": [
    "#### Eight Point Algorithm (Longuet-Higgins ’81)"
   ]
  },
  {
   "cell_type": "markdown",
   "metadata": {},
   "source": [
    "#### Do We Need Eight Points?"
   ]
  },
  {
   "cell_type": "markdown",
   "metadata": {},
   "source": [
    "#### Limitations and Further Extensions"
   ]
  },
  {
   "cell_type": "markdown",
   "metadata": {},
   "source": [
    "### Structure Reconstruction"
   ]
  },
  {
   "cell_type": "markdown",
   "metadata": {},
   "source": [
    "❗ 同名Slide"
   ]
  },
  {
   "cell_type": "markdown",
   "metadata": {},
   "source": [
    "#### Example"
   ]
  },
  {
   "cell_type": "markdown",
   "metadata": {},
   "source": [
    "#### Degenerate Configurations"
   ]
  },
  {
   "cell_type": "markdown",
   "metadata": {},
   "source": [
    "### Four-Point Algorithm"
   ]
  },
  {
   "cell_type": "markdown",
   "metadata": {},
   "source": [
    "#### Planar Homographies"
   ]
  },
  {
   "cell_type": "markdown",
   "metadata": {},
   "source": [
    "#### From Point Pairs to Homography"
   ]
  },
  {
   "cell_type": "markdown",
   "metadata": {},
   "source": [
    "#### The Four Point Algorithm"
   ]
  },
  {
   "cell_type": "markdown",
   "metadata": {},
   "source": [
    "#### General Comments"
   ]
  },
  {
   "cell_type": "markdown",
   "metadata": {},
   "source": [
    "### The Uncalibrated Case"
   ]
  },
  {
   "cell_type": "markdown",
   "metadata": {},
   "source": [
    "#### The Case of an Uncalibrated Camera"
   ]
  },
  {
   "cell_type": "markdown",
   "metadata": {},
   "source": [
    "#### The Fundamental Matrix"
   ]
  },
  {
   "cell_type": "markdown",
   "metadata": {},
   "source": [
    "#### Limitations"
   ]
  }
 ],
 "metadata": {
  "kernelspec": {
   "display_name": "Python 3",
   "language": "python",
   "name": "python3"
  },
  "language_info": {
   "codemirror_mode": {
    "name": "ipython",
    "version": 3
   },
   "file_extension": ".py",
   "mimetype": "text/x-python",
   "name": "python",
   "nbconvert_exporter": "python",
   "pygments_lexer": "ipython3",
   "version": "3.7.2"
  },
  "toc": {
   "base_numbering": 1,
   "nav_menu": {},
   "number_sections": false,
   "sideBar": true,
   "skip_h1_title": false,
   "title_cell": "Table of Contents",
   "title_sidebar": "Contents",
   "toc_cell": true,
   "toc_position": {},
   "toc_section_display": true,
   "toc_window_display": false
  },
  "varInspector": {
   "cols": {
    "lenName": 16,
    "lenType": 16,
    "lenVar": 40
   },
   "kernels_config": {
    "python": {
     "delete_cmd_postfix": "",
     "delete_cmd_prefix": "del ",
     "library": "var_list.py",
     "varRefreshCmd": "print(var_dic_list())"
    },
    "r": {
     "delete_cmd_postfix": ") ",
     "delete_cmd_prefix": "rm(",
     "library": "var_list.r",
     "varRefreshCmd": "cat(var_dic_list()) "
    }
   },
   "types_to_exclude": [
    "module",
    "function",
    "builtin_function_or_method",
    "instance",
    "_Feature"
   ],
   "window_display": true
  }
 },
 "nbformat": 4,
 "nbformat_minor": 2
}
