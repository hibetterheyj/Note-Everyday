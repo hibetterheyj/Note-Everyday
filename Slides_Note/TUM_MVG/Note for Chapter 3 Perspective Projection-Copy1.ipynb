{
 "cells": [
  {
   "cell_type": "markdown",
   "metadata": {
    "toc": true
   },
   "source": [
    "<h1>Table of Contents<span class=\"tocSkip\"></span></h1>\n",
    "<div class=\"toc\"><ul class=\"toc-item\"><li><span><a href=\"#Note-for-Chapter-3-Perspective-Projection\" data-toc-modified-id=\"Note-for-Chapter-3-Perspective-Projection-1\">Note for Chapter 3 Perspective Projection</a></span><ul class=\"toc-item\"><li><span><a href=\"#Mathematical-Representation\" data-toc-modified-id=\"Mathematical-Representation-1.1\">Mathematical Representation</a></span><ul class=\"toc-item\"><li><span><a href=\"#Slide-title\" data-toc-modified-id=\"Slide-title-1.1.1\">Slide title</a></span></li></ul></li><li><span><a href=\"#Spherical-Projection\" data-toc-modified-id=\"Spherical-Projection-1.2\">Spherical Projection</a></span></li><li><span><a href=\"#Radial-Distortion\" data-toc-modified-id=\"Radial-Distortion-1.3\">Radial Distortion</a></span></li><li><span><a href=\"#Preimage-and-Coimage\" data-toc-modified-id=\"Preimage-and-Coimage-1.4\">Preimage and Coimage</a></span></li><li><span><a href=\"#Projective-Geometry\" data-toc-modified-id=\"Projective-Geometry-1.5\">Projective Geometry</a></span></li></ul></li></ul></div>"
   ]
  },
  {
   "cell_type": "markdown",
   "metadata": {},
   "source": [
    "## Note for Chapter 3 Perspective Projection"
   ]
  },
  {
   "cell_type": "markdown",
   "metadata": {},
   "source": [
    "### Mathematical Representation"
   ]
  },
  {
   "cell_type": "markdown",
   "metadata": {},
   "source": [
    "#### Slide title"
   ]
  },
  {
   "cell_type": "markdown",
   "metadata": {},
   "source": [
    "### Spherical Projection "
   ]
  },
  {
   "cell_type": "markdown",
   "metadata": {},
   "source": [
    "### Radial Distortion"
   ]
  },
  {
   "cell_type": "markdown",
   "metadata": {},
   "source": [
    "### Preimage and Coimage"
   ]
  },
  {
   "cell_type": "markdown",
   "metadata": {},
   "source": [
    "### Projective Geometry"
   ]
  }
 ],
 "metadata": {
  "kernelspec": {
   "display_name": "Python 3",
   "language": "python",
   "name": "python3"
  },
  "language_info": {
   "codemirror_mode": {
    "name": "ipython",
    "version": 3
   },
   "file_extension": ".py",
   "mimetype": "text/x-python",
   "name": "python",
   "nbconvert_exporter": "python",
   "pygments_lexer": "ipython3",
   "version": "3.7.2"
  },
  "toc": {
   "base_numbering": 1,
   "nav_menu": {},
   "number_sections": false,
   "sideBar": true,
   "skip_h1_title": false,
   "title_cell": "Table of Contents",
   "title_sidebar": "Contents",
   "toc_cell": true,
   "toc_position": {},
   "toc_section_display": true,
   "toc_window_display": true
  },
  "varInspector": {
   "cols": {
    "lenName": 16,
    "lenType": 16,
    "lenVar": 40
   },
   "kernels_config": {
    "python": {
     "delete_cmd_postfix": "",
     "delete_cmd_prefix": "del ",
     "library": "var_list.py",
     "varRefreshCmd": "print(var_dic_list())"
    },
    "r": {
     "delete_cmd_postfix": ") ",
     "delete_cmd_prefix": "rm(",
     "library": "var_list.r",
     "varRefreshCmd": "cat(var_dic_list()) "
    }
   },
   "types_to_exclude": [
    "module",
    "function",
    "builtin_function_or_method",
    "instance",
    "_Feature"
   ],
   "window_display": true
  }
 },
 "nbformat": 4,
 "nbformat_minor": 2
}
