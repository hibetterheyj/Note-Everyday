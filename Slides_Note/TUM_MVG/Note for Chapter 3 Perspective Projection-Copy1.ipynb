{
 "cells": [
  {
   "cell_type": "markdown",
   "metadata": {
    "toc": true
   },
   "source": [
    "<h1>Table of Contents<span class=\"tocSkip\"></span></h1>\n",
    "<div class=\"toc\"><ul class=\"toc-item\"><li><span><a href=\"#Note-for-Chapter-3-Perspective-Projection\" data-toc-modified-id=\"Note-for-Chapter-3-Perspective-Projection-1\">Note for Chapter 3 Perspective Projection</a></span><ul class=\"toc-item\"><li><span><a href=\"#Mathematical-Representation\" data-toc-modified-id=\"Mathematical-Representation-1.1\">Mathematical Representation</a></span><ul class=\"toc-item\"><li><span><a href=\"#Mathematics-of-Perspective-Projection\" data-toc-modified-id=\"Mathematics-of-Perspective-Projection-1.1.1\">Mathematics of Perspective Projection</a></span></li><li><span><a href=\"#An-Ideal-Perspective-Camera\" data-toc-modified-id=\"An-Ideal-Perspective-Camera-1.1.2\">An Ideal Perspective Camera</a></span></li></ul></li><li><span><a href=\"#Intrinsic-Parameters\" data-toc-modified-id=\"Intrinsic-Parameters-1.2\">Intrinsic Parameters</a></span><ul class=\"toc-item\"><li><span><a href=\"#Intrinsic-Camera-Parameters-相机内参\" data-toc-modified-id=\"Intrinsic-Camera-Parameters-相机内参-1.2.1\">Intrinsic Camera Parameters 相机内参</a></span></li><li><span><a href=\"#The-Intrinsic-Parameter-Matrix\" data-toc-modified-id=\"The-Intrinsic-Parameter-Matrix-1.2.2\">The Intrinsic Parameter Matrix</a></span></li></ul></li><li><span><a href=\"#Spherical-Projection\" data-toc-modified-id=\"Spherical-Projection-1.3\">Spherical Projection</a></span><ul class=\"toc-item\"><li><span><a href=\"#Spherical-Perspective-Projection-球面透视投影\" data-toc-modified-id=\"Spherical-Perspective-Projection-球面透视投影-1.3.1\">Spherical Perspective Projection 球面透视投影</a></span></li></ul></li><li><span><a href=\"#Radial-Distortion\" data-toc-modified-id=\"Radial-Distortion-1.4\">Radial Distortion</a></span><ul class=\"toc-item\"><li><span><a href=\"#Radial-Distortion\" data-toc-modified-id=\"Radial-Distortion-1.4.1\">Radial Distortion</a></span></li></ul></li><li><span><a href=\"#Preimage-and-Coimage\" data-toc-modified-id=\"Preimage-and-Coimage-1.5\">Preimage and Coimage</a></span><ul class=\"toc-item\"><li><span><a href=\"#Preimage-of-Points-and-Lines-点与线的原像\" data-toc-modified-id=\"Preimage-of-Points-and-Lines-点与线的原像-1.5.1\">Preimage of Points and Lines 点与线的原像</a></span></li><li><span><a href=\"#Preimage-and-Coimage-原像和共像\" data-toc-modified-id=\"Preimage-and-Coimage-原像和共像-1.5.2\">Preimage and Coimage 原像和共像</a></span></li><li><span><a href=\"#Preimage-and-Coimage-of-Points-and-Lines\" data-toc-modified-id=\"Preimage-and-Coimage-of-Points-and-Lines-1.5.3\">Preimage and Coimage of Points and Lines</a></span></li></ul></li><li><span><a href=\"#Projective-Geometry\" data-toc-modified-id=\"Projective-Geometry-1.6\">Projective Geometry</a></span></li></ul></li></ul></div>"
   ]
  },
  {
   "cell_type": "markdown",
   "metadata": {},
   "source": [
    "## Note for Chapter 3 Perspective Projection"
   ]
  },
  {
   "cell_type": "markdown",
   "metadata": {},
   "source": [
    "> 对应bilibili视频[lecture5](https://www.bilibili.com/video/av24149942?p=5)"
   ]
  },
  {
   "cell_type": "markdown",
   "metadata": {},
   "source": [
    "### Mathematical Representation"
   ]
  },
  {
   "cell_type": "markdown",
   "metadata": {},
   "source": [
    "#### Mathematics of Perspective Projection"
   ]
  },
  {
   "cell_type": "markdown",
   "metadata": {},
   "source": [
    "透镜(thin len)模型，假设一点P $ \\mathbf{X} = (X, Y, Z) \\in \\mathbb{R}^3 $ ，p为物像\n",
    "\n",
    "![len](./Image/Chap3_len.jpg)\n",
    " \n",
    "其中，z轴为透镜中轴 (z-axis is the optical axis)\n",
    "\n",
    "\n",
    "投影变化(perspective transformation) $ \\pi $\n",
    "\n",
    "![projection](./Image/Chap3_projection.jpg)\n",
    "\n",
    "翻转物体对应的位置，物体与像对应公式：\n",
    "\n",
    "$$\n",
    "\\pi: \\mathbb{R}^3 \\rightarrow \\mathbb{R}^2; \\mathbf{X} \\rightarrow \n",
    "x = \\pi(\\mathbf{X}) = \\left(\\begin{array}{c}  f\\frac{X}{Z} \\\\ f\\frac{X}{Z} \\end{array}\\right) \n",
    "$$"
   ]
  },
  {
   "cell_type": "markdown",
   "metadata": {},
   "source": [
    "#### An Ideal Perspective Camera"
   ]
  },
  {
   "cell_type": "markdown",
   "metadata": {},
   "source": [
    "普通坐标下，建立投影模型，投影变换则为：\n",
    "$$\n",
    "Z \\mathbf{x} \n",
    "= Z \n",
    "\\left(\\begin{array} {c} x \\\\ y\\\\ 1 \\end{array} \\right)\n",
    "= \\left(\\begin{array} {cccc} f & 0 & 0 & 0 \\\\ 0 & f & 0 & 0\\\\ 0 & 0 & 1 & 0 \\end{array} \\right) \\left(\\begin{array} {c} X \\\\ Y \\\\ Z \\\\ 1 \\end{array} \\right)\n",
    "= \\left(\\begin{array} {ccc} f & 0 & 0  \\\\ 0 & f & 0\\\\ 0 & 0 & 1 \\end{array} \\right)\n",
    "\\left(\\begin{array} {cccc} 1 & 0 & 0 & 0 \\\\ 0 & 1 & 0 & 0\\\\ 0 & 0 & 1 & 0 \\end{array} \\right) \n",
    "\\left(\\begin{array} {c} X \\\\ Y \\\\ Z \\\\ 1 \\end{array} \\right)\n",
    "= K_f \\Pi_0 \\mathbf{X}\n",
    "$$\n",
    "其中，$ K_f $ 为焦距矩阵，$ \\Pi_0 $ 标准投影矩阵。\n",
    "\n",
    "进一步优化，求解特征值：\n",
    "$$\n",
    "\\lambda \\mathbf{x} = K_f \\Pi_0 \\mathbf{X}\n",
    "= K_f \\Pi_0 g \\mathbf{X}_0\n",
    "$$\n",
    "\n",
    "特别的是，若焦距f一直，它可以进行归一化（by changing the units of the image coordinates）\n",
    "$$\n",
    "\\lambda \\mathbf{x} = \\Pi_0 \\mathbf{X} = \\Pi_0 g \\mathbf{X}_0\n",
    "$$\n",
    "\n",
    "相机运动模型：\n",
    "$$\n",
    "\\mathbf{X} = R \\mathbf{X}_0 + \\mathbf{T}\n",
    "$$\n",
    "在齐次坐标下，可以简化成矩阵相乘\n",
    "$$\n",
    "\\mathbf{X} = g \\mathbf{X}_0\n",
    "= \n",
    "\\left(\\begin{array} {cc}\n",
    "R & T \\\\ 0 & 1\n",
    "\\end{array} \\right)\n",
    "\\mathbf{X}_0\n",
    "$$\n",
    "\n",
    "\n",
    "❗ 更多待补充"
   ]
  },
  {
   "cell_type": "markdown",
   "metadata": {},
   "source": [
    "### Intrinsic Parameters"
   ]
  },
  {
   "cell_type": "markdown",
   "metadata": {},
   "source": [
    "#### Intrinsic Camera Parameters 相机内参"
   ]
  },
  {
   "cell_type": "markdown",
   "metadata": {},
   "source": [
    "坐标系：world => camera => image => pixek\n",
    "\n",
    "相机不在焦线上，需要引入额外的平移变换 $ (o_x, o_y , 1)^{\\mathsf{T}} $\n",
    "\n",
    "pixel coordinate unit scale （单位归一），需要引入尺度放缩系数 $ s_x $ 和 $ s_y $\n",
    "\n",
    "此外，对于畸变也需引入 pixels are not rectangular, we have a skew factor $ s_{\\theta} $\n",
    "\n",
    "因此，对应矩阵变换为：\n",
    "\n",
    "$\n",
    "K_s\n",
    "=\n",
    "\\left(\n",
    "\\begin{array}{ccc}\n",
    "s_x & s_{\\theta} & o_x\\\\\n",
    "0 & s_y & o_y\\\\\n",
    "0 & 0 & 1 \\end{array}\n",
    "\\right)\n",
    "$\n",
    "\n",
    "焦点对应矩阵：\n",
    "\n",
    "$\n",
    "K_f\n",
    "=\n",
    "\\left(\n",
    "\\begin{array}{ccc}\n",
    "f & 0 & 0\\\\\n",
    "0 & f & 0\\\\\n",
    "0 & 0 & 1 \\end{array}\n",
    "\\right)\n",
    "$\n",
    "\n",
    "内参矩阵（intrinsic parameter matrix）：$ K = K_s K_f $\n",
    "\n",
    "像素坐标 $ (x', y', 1)^{\\mathsf{T}} $\n",
    "\n",
    "$$\n",
    "\\lambda \\mathbf{x} = \\Pi_0 \\mathbf{X} = \\Pi_0 g \\mathbf{X}_0\n",
    "\\rightarrow\n",
    "\\lambda \\left(\\begin{array}{c} x' \\\\ y' \\\\ 1 \\end{array} \\right)\n",
    "=\n",
    "K_s\n",
    "K_f\n",
    "\\Pi_0\n",
    "\\left(\\begin{array}{c} X \\\\ Y \\\\ Z \\\\ 1 \\end{array} \\right)\n",
    "$$"
   ]
  },
  {
   "cell_type": "markdown",
   "metadata": {},
   "source": [
    "#### The Intrinsic Parameter Matrix"
   ]
  },
  {
   "cell_type": "markdown",
   "metadata": {},
   "source": [
    "内参矩阵：\n",
    "$$\n",
    "K = K_s K_f = \n",
    "\\left(\n",
    "\\begin{array}{ccc} \n",
    "fs_x & fs_{\\theta} & o_x \\\\\n",
    "0 & fs_y & o_y \\\\\n",
    "0 & 0 & 1\n",
    "\\end{array}\n",
    "\\right)\n",
    "$$\n",
    "\n",
    "因此，从世界坐标系看：\n",
    "$$\n",
    "\\lambda \\mathbf{x'}\n",
    "=\n",
    "K_s\n",
    "K_f\n",
    "\\Pi_0\n",
    "\\left(\\begin{array}{c} X \\\\ Y \\\\ Z \\\\ 1 \\end{array} \\right)\n",
    "= K \\Pi_0 \\lambda \\mathbf{X}\n",
    "= K \\Pi_0 g\\mathbf{X}_0\n",
    "= \\Pi \\mathbf{X}_0\n",
    "$$\n",
    "其中，内参矩阵$ K \\in \\mathbb{R}^{3 \\times 3}$, 投影矩阵$ \\Pi_0 \\in \\mathbb{R}^{3 \\times 4}$，刚体变换矩阵$ g \\in \\mathbb{R}^{4 \\times 4}$和坐标$ \\mathbf{X} \\in \\mathbb{R}^{4 \\times 1}$\n",
    "\n",
    "从而定义一个一般投影矩阵$ \\Pi = K \\Pi_0 g = (KR, KT)^{\\mathsf{T}} \\in \\mathbb{R}^{3 \\times 4} $\n",
    "\n",
    "Although the above equation looks ike a linear one, we still have the scale parameter，非线性，并具有尺度参数 $ \\lambda $，除以$ \\lambda $之后可以得到：\n",
    "$$\n",
    "x'\n",
    "=\n",
    "\\frac{\\pi_{1}^{\\mathsf{T}}\\mathbf{X}_0}{\\pi_{3}^{\\mathsf{T}}\\mathbf{X}_0}\n",
    "\\Pi_0,\n",
    "\\quad\n",
    "y'\n",
    "=\n",
    "\\frac{\\pi_{2}^{\\mathsf{T}}\\mathbf{X}_0}{\\pi_{3}^{\\mathsf{T}}\\mathbf{X}_0}\n",
    "\\Pi_0,\n",
    "\\quad\n",
    "z' = 1\n",
    "$$\n",
    "\n",
    "其中 $ \\pi_{i}^{\\mathsf{T}} $代表投影矩阵第$i$行\n",
    "\n",
    "相关矩阵：\n",
    "$$\n",
    "K = \n",
    "\\left(\n",
    "\\begin{array}{ccc} \n",
    "fs_x & fs_{\\theta} & o_x \\\\\n",
    "0 & fs_y & o_y \\\\\n",
    "0 & 0 & 1\n",
    "\\end{array}\n",
    "\\right)\n",
    "$$\n",
    "\n",
    "- 像素水平尺寸$ fs_x = \\alpha_x $\n",
    "- 像素垂直尺寸$ fs_y = \\alpha_y $\n",
    "- 尺寸比例（aspect ratio）$ \\sigma = \\alpha_x / \\alpha_y $\n",
    "- 像素变形（接近0）$ fs_{\\theta} $"
   ]
  },
  {
   "cell_type": "markdown",
   "metadata": {},
   "source": [
    "### Spherical Projection "
   ]
  },
  {
   "cell_type": "markdown",
   "metadata": {},
   "source": [
    "#### Spherical Perspective Projection 球面透视投影"
   ]
  },
  {
   "cell_type": "markdown",
   "metadata": {},
   "source": [
    "该模型是投影在球面上，不是像前面平面上。\n",
    "\n",
    "对应原有平面镜模型，球面模型没有所谓的Z，而是使用$ \\dfrac{\\mathbf{x}}{|\\mathbf{x}|} $\n",
    "\n",
    "one can consider a spherical\n",
    "projection surface given by the unit sphere $ \\mathbb{S}^2 \\equiv \\{{x \\in \\mathbb{R}^3} | |x| = 1 \\} $\n",
    "\n",
    "从而对应的球面投影$ \\pi_s: \\mathbb{R}^3 \\rightarrow \\mathbb{S}^2; \\quad \\mathbf{X} \\rightarrow \\mathbf{x} = \\dfrac{\\mathbf{x}}{|\\mathbf{x}|} $\n",
    "\n",
    "相似地，像素坐标系与世界坐标系有对应关系：\n",
    "$$\n",
    "\\lambda \\mathbf{x'}\n",
    "= K \\Pi_0 g\\mathbf{X}_0\n",
    "$$\n",
    "不过其中比较特别的是，尺度因子$ \\lambda = |\\mathbf{X}| = \\sqrt{X^2 + Y^2 + Z^2} $\n",
    "\n",
    "❗ 对应的科学表示 $ \\mathbf{x} \\sim \\mathbf{Y} $\n",
    "\n",
    "从而，投影矩阵：\n",
    "$$\n",
    "\\mathbf{x}' \\sim \\Pi \\mathbf{X}_0 = K \\Pi_0 g\\mathbf{X}_0\n",
    "$$\n",
    "\n",
    "❗ 理解待添加！"
   ]
  },
  {
   "cell_type": "markdown",
   "metadata": {},
   "source": [
    "### Radial Distortion"
   ]
  },
  {
   "cell_type": "markdown",
   "metadata": {},
   "source": [
    "#### Radial Distortion"
   ]
  },
  {
   "cell_type": "markdown",
   "metadata": {},
   "source": []
  },
  {
   "cell_type": "markdown",
   "metadata": {},
   "source": [
    "### Preimage and Coimage"
   ]
  },
  {
   "cell_type": "markdown",
   "metadata": {},
   "source": [
    "#### Preimage of Points and Lines 点与线的原像"
   ]
  },
  {
   "cell_type": "markdown",
   "metadata": {},
   "source": [
    "失去了深度信息，多个点映射到图片上同一点\n",
    "\n",
    "图片上的一条线 L 是由一个平面P与投影平面的交线\n",
    "\n",
    "❗ 更多待补充，关于subspace"
   ]
  },
  {
   "cell_type": "markdown",
   "metadata": {},
   "source": [
    "#### Preimage and Coimage 原像和共像"
   ]
  },
  {
   "cell_type": "markdown",
   "metadata": {},
   "source": [
    "> [Wiki - Orthogonal complement](https://en.wikipedia.org/wiki/Orthogonal_complement), [中文](https://zh.wikipedia.org/wiki/%E6%AD%A3%E4%BA%A4%E8%A1%A5)\n",
    "\n",
    "❗ 更多待补充 orthogonal complement 这一点不是非常理解"
   ]
  },
  {
   "cell_type": "markdown",
   "metadata": {},
   "source": [
    "#### Preimage and Coimage of Points and Lines"
   ]
  },
  {
   "cell_type": "markdown",
   "metadata": {},
   "source": []
  },
  {
   "cell_type": "markdown",
   "metadata": {},
   "source": [
    "❗ 更多待补充"
   ]
  },
  {
   "cell_type": "markdown",
   "metadata": {},
   "source": [
    "### Projective Geometry"
   ]
  },
  {
   "cell_type": "markdown",
   "metadata": {},
   "source": [
    "> [Wiki - Projective geometry](https://en.wikipedia.org/wiki/Projective_geometry), [中文](https://zh.wikipedia.org/wiki/%E5%B0%84%E5%BD%B1%E5%87%A0%E4%BD%95)\n",
    "\n",
    "MVG这本书有所介绍投影几何，可以使用一个更为一般的数学表示空间中的一个点！在本门课，可以不需要。\n",
    "\n",
    "❗ 更多待补充"
   ]
  }
 ],
 "metadata": {
  "kernelspec": {
   "display_name": "Python 3",
   "language": "python",
   "name": "python3"
  },
  "language_info": {
   "codemirror_mode": {
    "name": "ipython",
    "version": 3
   },
   "file_extension": ".py",
   "mimetype": "text/x-python",
   "name": "python",
   "nbconvert_exporter": "python",
   "pygments_lexer": "ipython3",
   "version": "3.7.2"
  },
  "toc": {
   "base_numbering": 1,
   "nav_menu": {},
   "number_sections": false,
   "sideBar": true,
   "skip_h1_title": false,
   "title_cell": "Table of Contents",
   "title_sidebar": "Contents",
   "toc_cell": true,
   "toc_position": {},
   "toc_section_display": true,
   "toc_window_display": false
  },
  "varInspector": {
   "cols": {
    "lenName": 16,
    "lenType": 16,
    "lenVar": 40
   },
   "kernels_config": {
    "python": {
     "delete_cmd_postfix": "",
     "delete_cmd_prefix": "del ",
     "library": "var_list.py",
     "varRefreshCmd": "print(var_dic_list())"
    },
    "r": {
     "delete_cmd_postfix": ") ",
     "delete_cmd_prefix": "rm(",
     "library": "var_list.r",
     "varRefreshCmd": "cat(var_dic_list()) "
    }
   },
   "types_to_exclude": [
    "module",
    "function",
    "builtin_function_or_method",
    "instance",
    "_Feature"
   ],
   "window_display": true
  }
 },
 "nbformat": 4,
 "nbformat_minor": 2
}
