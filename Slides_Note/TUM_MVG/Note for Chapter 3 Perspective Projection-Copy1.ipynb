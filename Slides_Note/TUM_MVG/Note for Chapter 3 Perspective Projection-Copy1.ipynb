{
 "cells": [
  {
   "cell_type": "markdown",
   "metadata": {
    "toc": true
   },
   "source": [
    "<h1>Table of Contents<span class=\"tocSkip\"></span></h1>\n",
    "<div class=\"toc\"><ul class=\"toc-item\"><li><span><a href=\"#Note-for-Chapter-3-Perspective-Projection\" data-toc-modified-id=\"Note-for-Chapter-3-Perspective-Projection-1\">Note for Chapter 3 Perspective Projection</a></span><ul class=\"toc-item\"><li><span><a href=\"#Mathematical-Representation\" data-toc-modified-id=\"Mathematical-Representation-1.1\">Mathematical Representation</a></span><ul class=\"toc-item\"><li><span><a href=\"#Mathematics-of-Perspective-Projection\" data-toc-modified-id=\"Mathematics-of-Perspective-Projection-1.1.1\">Mathematics of Perspective Projection</a></span></li></ul></li><li><span><a href=\"#Intrinsic-Parameters\" data-toc-modified-id=\"Intrinsic-Parameters-1.2\">Intrinsic Parameters</a></span><ul class=\"toc-item\"><li><span><a href=\"#Intrinsic-Camera-Parameters-相机内参\" data-toc-modified-id=\"Intrinsic-Camera-Parameters-相机内参-1.2.1\">Intrinsic Camera Parameters 相机内参</a></span></li><li><span><a href=\"#The-Intrinsic-Parameter-Matrix\" data-toc-modified-id=\"The-Intrinsic-Parameter-Matrix-1.2.2\">The Intrinsic Parameter Matrix</a></span></li></ul></li><li><span><a href=\"#Spherical-Projection\" data-toc-modified-id=\"Spherical-Projection-1.3\">Spherical Projection</a></span></li><li><span><a href=\"#Radial-Distortion\" data-toc-modified-id=\"Radial-Distortion-1.4\">Radial Distortion</a></span></li><li><span><a href=\"#Preimage-and-Coimage\" data-toc-modified-id=\"Preimage-and-Coimage-1.5\">Preimage and Coimage</a></span></li><li><span><a href=\"#Projective-Geometry\" data-toc-modified-id=\"Projective-Geometry-1.6\">Projective Geometry</a></span></li></ul></li></ul></div>"
   ]
  },
  {
   "cell_type": "markdown",
   "metadata": {},
   "source": [
    "## Note for Chapter 3 Perspective Projection"
   ]
  },
  {
   "cell_type": "markdown",
   "metadata": {},
   "source": [
    "> 对应bilibili视频[lecture5](https://www.bilibili.com/video/av24149942?p=5)"
   ]
  },
  {
   "cell_type": "markdown",
   "metadata": {},
   "source": [
    "### Mathematical Representation"
   ]
  },
  {
   "cell_type": "markdown",
   "metadata": {},
   "source": [
    "#### Mathematics of Perspective Projection"
   ]
  },
  {
   "cell_type": "markdown",
   "metadata": {},
   "source": [
    "透镜(thin len)模型，假设一点P $ \\mathbf{X} = (X, Y, Z) \\in \\mathbb{R}^3 $ ，p为物像\n",
    "\n",
    "![len](./Image/Chap3_len.jpg)\n",
    " \n",
    "其中，z轴为透镜中轴 (z-axis is the optical axis)\n",
    "\n",
    "\n",
    "投影变化(perspective transformation) $ \\pi $\n",
    "\n",
    "![projection](./Image/Chap3_projection.jpg)\n",
    "\n",
    "翻转物体对应的位置，物体与像对应公式：\n",
    "\n",
    "$$\n",
    "\\pi: \\mathbb{R}^3 \\rightarrow \\mathbb{R}^2; \\mathbf{X} \\rightarrow \n",
    "x = \\pi(\\mathbf{X}) = \\left(\\begin{array}{c}  f\\frac{X}{Z} \\\\ f\\frac{X}{Z} \\end{array}\\right) \n",
    "$$"
   ]
  },
  {
   "cell_type": "markdown",
   "metadata": {},
   "source": [
    "- An Ideal Perspective Camera"
   ]
  },
  {
   "cell_type": "markdown",
   "metadata": {},
   "source": [
    "在齐次坐标下，建立投影模型，投影变换则为：\n",
    "\n",
    "❗ 更多待补充"
   ]
  },
  {
   "cell_type": "markdown",
   "metadata": {},
   "source": [
    "### Intrinsic Parameters"
   ]
  },
  {
   "cell_type": "markdown",
   "metadata": {},
   "source": [
    "#### Intrinsic Camera Parameters 相机内参"
   ]
  },
  {
   "cell_type": "markdown",
   "metadata": {},
   "source": [
    "坐标系：world => camera => image => pixek\n",
    "\n",
    "相机不在焦线上，需要引入额外的平移变换 $ (o_x, o_y , 1)^{\\mathsf{T}} $\n",
    "\n",
    "pixel coordinate unit scale （单位归一），需要引入尺度放缩系数 $ s_x $ 和 $ s_y $\n",
    "\n",
    "此外，对于畸变也需引入 pixels are not rectangular, we have a skew factor $ s_{\\theta} $\n",
    "\n",
    "因此，对应矩阵变换为：\n",
    "\n",
    "$\n",
    "K_s\n",
    "=\n",
    "\\left(\n",
    "\\begin{array}{ccc}\n",
    "s_x & s_{\\theta} & o_x\\\\\n",
    "0 & s_y & o_y\\\\\n",
    "0 & 0 & 1 \\end{array}\n",
    "\\right)\n",
    "$\n",
    "\n",
    "焦点对应矩阵：\n",
    "\n",
    "$\n",
    "K_f\n",
    "=\n",
    "\\left(\n",
    "\\begin{array}{ccc}\n",
    "f & 0 & 0\\\\\n",
    "0 & f & 0\\\\\n",
    "0 & 0 & 1 \\end{array}\n",
    "\\right)\n",
    "$\n",
    "\n",
    "内参矩阵（intrinsic parameter matrix）：$ K = K_s K_f $\n",
    "\n",
    "❗ 更多待补充"
   ]
  },
  {
   "cell_type": "markdown",
   "metadata": {},
   "source": [
    "#### The Intrinsic Parameter Matrix"
   ]
  },
  {
   "cell_type": "markdown",
   "metadata": {},
   "source": [
    "❗ 更多待补充"
   ]
  },
  {
   "cell_type": "markdown",
   "metadata": {},
   "source": []
  },
  {
   "cell_type": "markdown",
   "metadata": {},
   "source": []
  },
  {
   "cell_type": "markdown",
   "metadata": {
    "heading_collapsed": true
   },
   "source": [
    "### Spherical Projection "
   ]
  },
  {
   "cell_type": "markdown",
   "metadata": {},
   "source": [
    "### Radial Distortion"
   ]
  },
  {
   "cell_type": "markdown",
   "metadata": {},
   "source": [
    "### Preimage and Coimage"
   ]
  },
  {
   "cell_type": "markdown",
   "metadata": {},
   "source": [
    "### Projective Geometry"
   ]
  }
 ],
 "metadata": {
  "kernelspec": {
   "display_name": "Python 3",
   "language": "python",
   "name": "python3"
  },
  "language_info": {
   "codemirror_mode": {
    "name": "ipython",
    "version": 3
   },
   "file_extension": ".py",
   "mimetype": "text/x-python",
   "name": "python",
   "nbconvert_exporter": "python",
   "pygments_lexer": "ipython3",
   "version": "3.7.2"
  },
  "toc": {
   "base_numbering": 1,
   "nav_menu": {},
   "number_sections": false,
   "sideBar": true,
   "skip_h1_title": false,
   "title_cell": "Table of Contents",
   "title_sidebar": "Contents",
   "toc_cell": true,
   "toc_position": {},
   "toc_section_display": true,
   "toc_window_display": false
  },
  "varInspector": {
   "cols": {
    "lenName": 16,
    "lenType": 16,
    "lenVar": 40
   },
   "kernels_config": {
    "python": {
     "delete_cmd_postfix": "",
     "delete_cmd_prefix": "del ",
     "library": "var_list.py",
     "varRefreshCmd": "print(var_dic_list())"
    },
    "r": {
     "delete_cmd_postfix": ") ",
     "delete_cmd_prefix": "rm(",
     "library": "var_list.r",
     "varRefreshCmd": "cat(var_dic_list()) "
    }
   },
   "types_to_exclude": [
    "module",
    "function",
    "builtin_function_or_method",
    "instance",
    "_Feature"
   ],
   "window_display": false
  }
 },
 "nbformat": 4,
 "nbformat_minor": 2
}
