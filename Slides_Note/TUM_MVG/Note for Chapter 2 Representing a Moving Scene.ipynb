{
 "cells": [
  {
   "cell_type": "markdown",
   "metadata": {
    "toc": true
   },
   "source": [
    "<h1>Table of Contents<span class=\"tocSkip\"></span></h1>\n",
    "<div class=\"toc\"><ul class=\"toc-item\"><li><span><a href=\"#Note-for-Chapter-2-Representing-a-Moving-Scene\" data-toc-modified-id=\"Note-for-Chapter-2-Representing-a-Moving-Scene-1\">Note for Chapter 2 Representing a Moving Scene</a></span><ul class=\"toc-item\"><li><span><a href=\"#3D-Space-&amp;-Rigid-Body-Motion\" data-toc-modified-id=\"3D-Space-&amp;-Rigid-Body-Motion-1.1\">3D Space &amp; Rigid Body Motion</a></span><ul class=\"toc-item\"><li><span><a href=\"#3D-Euclidean-Space-三维欧几里得空间\" data-toc-modified-id=\"3D-Euclidean-Space-三维欧几里得空间-1.1.1\">3D Euclidean Space 三维欧几里得空间</a></span></li><li><span><a href=\"#Cross-Product-&amp;-Skew-symmetric-Matrices-叉积与斜对称矩阵\" data-toc-modified-id=\"Cross-Product-&amp;-Skew-symmetric-Matrices-叉积与斜对称矩阵-1.1.2\">Cross Product &amp; Skew-symmetric Matrices 叉积与斜对称矩阵</a></span></li><li><span><a href=\"#Rigid-body-Motion-刚体运动\" data-toc-modified-id=\"Rigid-body-Motion-刚体运动-1.1.3\">Rigid-body Motion 刚体运动</a></span></li><li><span><a href=\"#Representation-of-Rigid-body-Motion\" data-toc-modified-id=\"Representation-of-Rigid-body-Motion-1.1.4\">Representation of Rigid-body Motion</a></span></li><li><span><a href=\"#Exponential-Coordinates-of-Rotation-旋转指数坐标\" data-toc-modified-id=\"Exponential-Coordinates-of-Rotation-旋转指数坐标-1.1.5\">Exponential Coordinates of Rotation 旋转指数坐标</a></span></li></ul></li><li><span><a href=\"#The-Lie-Group-SO(3)\" data-toc-modified-id=\"The-Lie-Group-SO(3)-1.2\">The Lie Group SO(3)</a></span><ul class=\"toc-item\"><li><span><a href=\"#Lie-Group-and-Lie-Algebra-李群与李代数\" data-toc-modified-id=\"Lie-Group-and-Lie-Algebra-李群与李代数-1.2.1\">Lie Group and Lie Algebra 李群与李代数</a></span></li><li><span><a href=\"#The-Exponential-Map\" data-toc-modified-id=\"The-Exponential-Map-1.2.2\">The Exponential Map</a></span></li><li><span><a href=\"#The-Logarithm-of-SO(3)\" data-toc-modified-id=\"The-Logarithm-of-SO(3)-1.2.3\">The Logarithm of SO(3)</a></span></li><li><span><a href=\"#Rodrigues’-Formula\" data-toc-modified-id=\"Rodrigues’-Formula-1.2.4\">Rodrigues’ Formula</a></span></li></ul></li><li><span><a href=\"#The-Lie-Group-SE(3)\" data-toc-modified-id=\"The-Lie-Group-SE(3)-1.3\">The Lie Group SE(3)</a></span><ul class=\"toc-item\"><li><span><a href=\"#Representation-of-Rigid-body-Motions-SE(3)\" data-toc-modified-id=\"Representation-of-Rigid-body-Motions-SE(3)-1.3.1\">Representation of Rigid-body Motions SE(3)</a></span></li><li><span><a href=\"#The-Lie-Algebra-of-Twists\" data-toc-modified-id=\"The-Lie-Algebra-of-Twists-1.3.2\">The Lie Algebra of Twists</a></span></li><li><span><a href=\"#The-Lie-Algebra-of-Twists\" data-toc-modified-id=\"The-Lie-Algebra-of-Twists-1.3.3\">The Lie Algebra of Twists</a></span></li><li><span><a href=\"#Exponential-Coordinates-for-SE(3)\" data-toc-modified-id=\"Exponential-Coordinates-for-SE(3)-1.3.4\">Exponential Coordinates for SE(3)</a></span></li></ul></li><li><span><a href=\"#Representing-the-Camera-Motion\" data-toc-modified-id=\"Representing-the-Camera-Motion-1.4\">Representing the Camera Motion</a></span><ul class=\"toc-item\"><li><span><a href=\"#Representing-the-Motion-of-the-Camera-相机运动的表示\" data-toc-modified-id=\"Representing-the-Motion-of-the-Camera-相机运动的表示-1.4.1\">Representing the Motion of the Camera 相机运动的表示</a></span></li><li><span><a href=\"#Concatenation-of-Motions-over-Frames\" data-toc-modified-id=\"Concatenation-of-Motions-over-Frames-1.4.2\">Concatenation of Motions over Frames</a></span></li><li><span><a href=\"#Rules-of-Velocity-Transformation\" data-toc-modified-id=\"Rules-of-Velocity-Transformation-1.4.3\">Rules of Velocity Transformation</a></span></li><li><span><a href=\"#Transfer-Between-Frames:-The-Adjoint(伴随)-Map\" data-toc-modified-id=\"Transfer-Between-Frames:-The-Adjoint(伴随)-Map-1.4.4\">Transfer Between Frames: The Adjoint(伴随) Map</a></span></li><li><span><a href=\"#Summary\" data-toc-modified-id=\"Summary-1.4.5\">Summary</a></span></li></ul></li><li><span><a href=\"#Euler-Angles\" data-toc-modified-id=\"Euler-Angles-1.5\">Euler Angles</a></span><ul class=\"toc-item\"><li><span><a href=\"#Alternative-Representations:-Euler-Angles\" data-toc-modified-id=\"Alternative-Representations:-Euler-Angles-1.5.1\">Alternative Representations: Euler Angles</a></span></li></ul></li></ul></li></ul></div>"
   ]
  },
  {
   "cell_type": "markdown",
   "metadata": {},
   "source": [
    "## Note for Chapter 2 Representing a Moving Scene"
   ]
  },
  {
   "cell_type": "markdown",
   "metadata": {
    "ExecuteTime": {
     "end_time": "2020-01-20T13:56:01.748570Z",
     "start_time": "2020-01-20T13:56:01.733341Z"
    }
   },
   "source": [
    "> 对应bilibili视频[lecture3](https://www.bilibili.com/video/av24149942?p=3), [lecture4](https://www.bilibili.com/video/av24149942?p=4)"
   ]
  },
  {
   "cell_type": "markdown",
   "metadata": {},
   "source": [
    "### 3D Space & Rigid Body Motion"
   ]
  },
  {
   "cell_type": "markdown",
   "metadata": {},
   "source": [
    "#### 3D Euclidean Space 三维欧几里得空间"
   ]
  },
  {
   "cell_type": "markdown",
   "metadata": {},
   "source": [
    "三维空间点 $ \\mathbf{X} = (X_1, X_2, X_3)^{\\mathsf{T}} \\in \\mathbb{R}^{3} $\n",
    "\n",
    "进一步，可以定义 $ v = \\mathbf{Y} - \\mathbf{X} \\in \\mathbb{R}^{3} $"
   ]
  },
  {
   "cell_type": "markdown",
   "metadata": {},
   "source": [
    "#### Cross Product & Skew-symmetric Matrices 叉积与斜对称矩阵"
   ]
  },
  {
   "cell_type": "markdown",
   "metadata": {},
   "source": [
    "两个空间向量叉积可以直接转化为，向量与斜对称矩阵的乘积\n",
    "\n",
    "$$\n",
    "u \\times v\n",
    "=\n",
    "\\left(\\begin{array}{l}\n",
    "\\mathbf{i} & \\mathbf{j} & \\mathbf{k} \\\\\n",
    "u_1 & u_2 & u_3 \\\\\n",
    "v_1 & v_2 & v_3 \n",
    "\\end{array}\\right)\n",
    "=\n",
    "\\left(\\begin{array}{l}\n",
    "{u_{2} v_{3}-u_{3} v_{2}} \\\\\n",
    "{u_{3} v_{1}-u_{1} v_{3}} \\\\\n",
    "{u_{1} v_{2}-u_{2} v_{1}}\n",
    "\\end{array}\\right)\n",
    "\\in \\mathbb{R}^{3}\n",
    "$$\n",
    "\n",
    "具有性质 $\n",
    "u \\times v = - v \\times u $\n",
    "\n",
    "可以转化为 $ \\widehat{u} v $，\n",
    "\n",
    "其中$\n",
    "\\widehat{u}=\\left(\\begin{array}{ccc}\n",
    "{0} & {-u_{3}} & {u_{2}} \\\\\n",
    "{u_{3}} & {0} & {-u_{1}} \\\\\n",
    "{-u_{2}} & {u_{1}} & {0}\n",
    "\\end{array}\\right) \\in \\mathbb{R}^{3 \\times 3}\n",
    "$是一个斜对称矩阵\n",
    "\n",
    "具有以下性质$ M = - M ^{\\mathsf{T}} $\n",
    "\n",
    "The operator $ \\widehat{ }  $ defines an isomorphism between \\mathbb{R}^{3} and the space so(3) of all 3 x 3 skew-symmetric matrices.\n",
    "\n",
    "\n",
    "❗ **so(3)是属于李代数，而SO(3)属于李群，暂时不是非常理解**\n",
    "\n",
    "李群就是具有连续（光滑）性质的群，对应的就像整数集，它属于离散群"
   ]
  },
  {
   "cell_type": "markdown",
   "metadata": {},
   "source": [
    "#### Rigid-body Motion 刚体运动"
   ]
  },
  {
   "cell_type": "markdown",
   "metadata": {},
   "source": [
    "另外一种定义方式：preserve the norm and cross product of any two vectors\n",
    "\n",
    "保持向量长度以及叉积的结果！进一步可以是实现triple-product：\n",
    "\n",
    "$$\n",
    "\\left\\langle g_{t}(u), g_{t}(v) \\times g_{t}(w)\\right\\rangle=\\langle u, v \\times w\\rangle, \\quad \\forall u, v, w \\in \\mathbb{R}^{3}\n",
    "$$\n",
    "\n",
    "验证体积的保持！"
   ]
  },
  {
   "cell_type": "markdown",
   "metadata": {},
   "source": [
    "#### Representation of Rigid-body Motion"
   ]
  },
  {
   "cell_type": "markdown",
   "metadata": {},
   "source": [
    "旋转矩阵 $ R \\in S O(3)=\\left\\{R \\in \\mathbb{R}^{3 \\times 3} | R^{\\top} R=I, \\mathrm{det}(R)=+1\\right\\} $ 属于正交群（orthogonal group）\n",
    "\n",
    "因此，刚体运动可以表示为：\n",
    "$\n",
    "g_{t}(x)=R x+T\n",
    "$"
   ]
  },
  {
   "cell_type": "markdown",
   "metadata": {},
   "source": [
    "#### Exponential Coordinates of Rotation 旋转指数坐标"
   ]
  },
  {
   "cell_type": "markdown",
   "metadata": {},
   "source": [
    "A family of rotation matrices $R(t)$ which\n",
    "continuously transform a point from its original location ($ R(0) = I $)\n",
    "\n",
    "然后以$R(t) R(t)^{\\mathsf{T}}=I, \\forall t$进行一系列推导：\n",
    "\n",
    "$\\dfrac{d}{d t}\\left(R R^{\\mathsf{T}}\\right)=\\dot{R} R^{\\mathsf{T}}+R \\dot{R}^{\\mathsf{T}}=0$, $\\dot{R} R^{\\mathsf{T}}=-\\left(\\dot{R} R^{\\mathsf{T}}\\right)^{\\mathsf{T}}$ 为斜对称矩阵\n",
    "\n",
    "存在 $ {w}(t) \\in \\mathbb{R}^3 $\n",
    "\n",
    "$\\dot{R}(t) R^{\\mathsf{T}}(t)=\\widehat{w}(t) \\Leftrightarrow \\dot{R}(t)=\\widehat{w} R(t)$\n",
    "\n",
    "$R(d t)=R(0)+d R=I+\\widehat{w}(0) d t$"
   ]
  },
  {
   "cell_type": "markdown",
   "metadata": {},
   "source": [
    "### The Lie Group SO(3)"
   ]
  },
  {
   "cell_type": "markdown",
   "metadata": {},
   "source": [
    "#### Lie Group and Lie Algebra 李群与李代数"
   ]
  },
  {
   "cell_type": "markdown",
   "metadata": {},
   "source": [
    "> 可以参考[**第四讲：李群和李代数**](https://zhuanlan.zhihu.com/p/33156814) ！\n",
    "\n",
    "1. A Lie group (or infinitesimal group) is a smooth manifold\n",
    "that is also a group, such that the group operations\n",
    "multiplication and inversion are smooth maps.\n",
    "\n",
    "2. The Lie algebra so(3) is the tangent space at\n",
    "the identity of the rotation group SO(3).\n",
    "\n",
    "$ w(t) $ 反应了 $ R $ 的导数的性质，故称它在SO(3) 原点附近的**正切空间（Tangent Space）**上 ==> 每个李群都有与之对应的李代数。李代数描述了李群的局部性质，从而$ w(0) \\in so(3) $\n",
    "\n",
    "Lie bracket （李括号）:\n",
    "\n",
    "$[., .]: s o(3) \\times s o(3) \\rightarrow s o(3) ; \\quad[\\widehat{w}, \\widehat{v}] \\equiv \\widehat{w} \\widehat{v}-\\widehat{v} \\widehat{w}$"
   ]
  },
  {
   "cell_type": "markdown",
   "metadata": {},
   "source": [
    "#### The Exponential Map "
   ]
  },
  {
   "cell_type": "markdown",
   "metadata": {},
   "source": [
    "to determine a useful representation of the rotation $ R(t) $?\n",
    "\n",
    "假设 $ \\widehat{w} $ 为常矩阵，已有：$\\left\\{\\begin{array}{l}{\\dot{R}(t)=\\widehat{w} R(t)} \\\\ {R(0)=l}\\end{array}\\right.$\n",
    "\n",
    "有常微分方程解法可以得到：$R(t)=e^{\\widehat{w} t}=\\sum\\limits_{n=0}^{\\infty} \\dfrac{(\\widehat{w} t)^{n}}{n !}=I+\\widehat{w} t+\\dfrac{(\\widehat{w} t)^{2}}{2 !}+\\dots$\n",
    "\n",
    "❗ 这一段不是很明白： This matrix exponential therefore defines a map from the Lie algebra to the Lie group. \n",
    "\n",
    "$$\n",
    "\\exp : s o(3) \\rightarrow S O(3) ; \\quad \\widehat{w} \\mapsto e^{\\widehat{w}}\n",
    "$$"
   ]
  },
  {
   "cell_type": "markdown",
   "metadata": {},
   "source": [
    "#### The Logarithm of SO(3) "
   ]
  },
  {
   "cell_type": "markdown",
   "metadata": {},
   "source": [
    "define an inverse function to the exponential map by the **logarithm** 使用log定义一个逆运算\n",
    "\n",
    "For any rotation matrix $R \\in SO(3)$, there exists\n",
    "a $ w in \\mathbb{R}^{3} $ such that $R = \\mathrm{exp}(\\widehat{w})$.\n",
    "\n",
    "引出拓展，$\\widehat{w}=\\log (R)$，其中$ w $有以下性质（$R=\\left(r_{i j}\\right) \\neq I$）：\n",
    "\n",
    "$$|w|=\\cos ^{-1}\\left(\\dfrac{\\mathrm{trace}(R)-1}{2}\\right)$$，\n",
    "\n",
    "$$\\dfrac{w}{|w|}=\\dfrac{1}{2 \\sin (|w|)}\\left(\\begin{array}{l}{r_{32}-r_{23}} \\\\ {r_{13}-r_{31}} \\\\ {r_{21}-r_{12}}\\end{array}\\right)$$\n",
    "\n",
    "当 $R = I$时， $|w| = 0$。\n",
    "\n",
    "❗ The above statement says: Any orthogonal transformation\n",
    "$R \\in SO(3)$ can be realized by rotating by an angle $|w|$ around\n",
    "an axis $\\dfrac{w}{|w|}$ as defined above"
   ]
  },
  {
   "cell_type": "markdown",
   "metadata": {},
   "source": [
    "#### Rodrigues’ Formula"
   ]
  },
  {
   "cell_type": "markdown",
   "metadata": {},
   "source": [
    "> [wiki: Rodrigues' formula](https://en.wikipedia.org/wiki/Rodrigues%27_formula)\n",
    "\n",
    "可以借助这个公式实现旋转方程到 $ \\widehat{w} $ （三个参数）的简化：\n",
    "\n",
    "对于原有的指数map，可以被进一步表示为：\n",
    "\n",
    "$$\n",
    "e^{\\widehat{w}}=I+\\dfrac{\\widehat{w}}{|w|} \\sin (|w|)+\\dfrac{\\widehat{w}^{2}}{|w|^{2}}(1-\\cos (|w|))\n",
    "$$\n",
    "\n",
    "❗ 证明此数，需要有所考量。"
   ]
  },
  {
   "cell_type": "markdown",
   "metadata": {},
   "source": [
    "### The Lie Group SE(3)"
   ]
  },
  {
   "cell_type": "markdown",
   "metadata": {},
   "source": [
    "#### Representation of Rigid-body Motions SE(3) "
   ]
  },
  {
   "cell_type": "markdown",
   "metadata": {},
   "source": [
    "> SE(3) 特殊欧几里得群，与上面相比，还进一步刻画了平移运动\n",
    "\n",
    "在齐次坐标（homogeneous coordinates）下，表示为\n",
    "\n",
    "$$\n",
    "S E(3) \\equiv\\left\\{g=\\left(\\begin{array}{cc}\n",
    "{R} & {T} \\\\\n",
    "{0} & {1}\n",
    "\\end{array}\\right) | R \\in S O(3), T \\in \\mathbb{R}^{3}\\right\\} \\quad \\subset \\mathbb{R}^{4 \\times 4}\n",
    "$$"
   ]
  },
  {
   "cell_type": "markdown",
   "metadata": {},
   "source": [
    "#### The Lie Algebra of Twists "
   ]
  },
  {
   "cell_type": "markdown",
   "metadata": {},
   "source": [
    "同样进行建模，给定一组刚体运动:\n",
    "\n",
    "$$\n",
    "g(t)=\\left(\\begin{array}{cc}{R(t)} & {T(t)} \\\\ {0} & {1}\\end{array}\\right) \\quad \\in \\mathbb{R}^{4 \\times 4}\n",
    "$$\n",
    "\n",
    "求逆可得：\n",
    "\n",
    "$$\n",
    "g^{-1}(t)=\\left[\\begin{array}{cc}{R(t)} & {T(t)} \\\\ {0} & {1}\\end{array}\\right]^{-1}=\\left[\\begin{array}{cc}{R(t)^{\\mathsf{T}}} & {-R^{\\mathsf{T}} T} \\\\ {0} & {1}\\end{array}\\right]\n",
    "$$\n",
    "\n",
    "因此，\n",
    "\n",
    "$$\n",
    "\\dot{g}(t) g^{-1}(t)=\\left(\\begin{array}{cc}{\\dot{R} R^{\\top}} & {\\dot{T}-\\dot{R} R^{\\top} T} \\\\ {0} & {0}\\end{array}\\right)\n",
    "$$\n",
    "\n",
    "在SO(3)中，有如下定义$\\dot{R} R = \\widehat{w} \\in s o(3)$\n",
    "\n",
    "此外，定义一新向量 $v(t)=\\dot{T}(t)-\\widehat{w}(t) T(t)$，最后得到：\n",
    "\n",
    "$$\n",
    "\\dot{g}(t) g^{-1}(t)=\\left(\\begin{array}{cc}\n",
    "{\\widehat{W}(t)} & {v(t)} \\\\\n",
    "{0} & {0}\n",
    "\\end{array}\\right) \\equiv \\widehat{\\xi}(t) \\in \\mathbb{R}^{4 \\times 4}\n",
    "$$"
   ]
  },
  {
   "cell_type": "markdown",
   "metadata": {},
   "source": [
    "#### The Lie Algebra of Twists"
   ]
  },
  {
   "cell_type": "markdown",
   "metadata": {},
   "source": [
    "进一步地，类似操作在上式右乘 $ g(t) $可得：\n",
    "\n",
    "$$\n",
    "\\dot{g}=\\dot{g} g^{-1} g=\\widehat{\\xi} g\n",
    "$$\n",
    "\n",
    "同理，$ \\widehat{\\xi} $ 可以被视为SE(3)附近的正切空间上 can be viewed as a tangent vector along the curve, and is called a **twist**.\n",
    "\n",
    "引出特殊欧几里得群对应的李代数：\n",
    "\n",
    "$$\n",
    "s e(3) \\equiv\\left\\{\\widehat{\\xi}=\\left(\\begin{array}{cc}\n",
    "{\\widehat{w}} & {v} \\\\\n",
    "{0} & {0}\n",
    "\\end{array}\\right) | \\widehat{w} \\in \\operatorname{so}(3), v \\in \\mathbb{R}^{3}\\right\\} \\subset \\mathbb{R}^{4 \\times 4}\n",
    "$$\n",
    "\n",
    "❗ 引入操作符：\n",
    "\n",
    "define operators $ \\wedge $ and $ \\vee $ to convert between\n",
    "a twist b\u0018 2 se(3) and its twist coordinates\n",
    "\n",
    "$$\n",
    "\\widehat{\\xi} \\equiv\\left(\\begin{array}{c}\n",
    "{V} \\\\\n",
    "{W}\n",
    "\\end{array}\\right)^{\\wedge} \\equiv\\left(\\begin{array}{cc}\n",
    "{\\widehat{W}} & {V} \\\\\n",
    "{0} & {0}\n",
    "\\end{array}\\right) \\in \\mathbb{R}^{4 \\times 4}\n",
    "$$\n",
    "\n",
    "与\n",
    "\n",
    "$$\n",
    "\\left(\\begin{array}{cc}\n",
    "{\\widehat{W}} & {V} \\\\\n",
    "{0} & {0}\n",
    "\\end{array}\\right)^{\\vee}\n",
    "\\equiv\n",
    "\\left(\\begin{array}{c}\n",
    "{V} \\\\\n",
    "{W}\n",
    "\\end{array}\\right) \n",
    "\\in \\mathbb{R}^{6}\n",
    "$$"
   ]
  },
  {
   "cell_type": "markdown",
   "metadata": {},
   "source": [
    "#### Exponential Coordinates for SE(3)"
   ]
  },
  {
   "cell_type": "markdown",
   "metadata": {},
   "source": [
    "同样进行推导，有常微分方程组，可以导出指数解，然后分情况讨论。\n",
    "\n",
    "已知 $ \\xi $ 为速度与角速度的堆叠，已有：$\\left\\{\\begin{array}{l}{\\dot{g}(t)=\\widehat{\\xi} g(t)} \\\\ {g(0)=l}\\end{array}\\right.$\n",
    "\n",
    "有常微分方程解法可以得到：\n",
    "$g(t)=e^{\\widehat{\\xi} t}=\\sum\\limits_{n=0}^{\\infty} \\dfrac{(\\widehat{\\xi} t)^{n}}{n !}$\n",
    "\n",
    "❗ 待补充\n",
    "\n"
   ]
  },
  {
   "cell_type": "markdown",
   "metadata": {},
   "source": [
    "### Representing the Camera Motion"
   ]
  },
  {
   "cell_type": "markdown",
   "metadata": {},
   "source": [
    "#### Representing the Motion of the Camera 相机运动的表示"
   ]
  },
  {
   "cell_type": "markdown",
   "metadata": {},
   "source": [
    "$$\n",
    "g(t) \n",
    "=\n",
    "\\left(\\begin{array}{cc}\n",
    "{R(t)} & {T(t)} \\\\\n",
    "{0} & {1}\n",
    "\\end{array}\\right)\n",
    "\\in \\mathrm{SE}(3)\n",
    "$$\n",
    "\n",
    "假定$t = 0$，$g(0) = I $与世界坐标系重合。\n",
    "\n",
    "对于任意一点$ \\mathbf{X}_0$，他在相机坐标中就可以表示为：\n",
    "\n",
    "$$ \\mathbf{X}(t) = R(t)\\mathbf{X}_0 + T(t)$$\n",
    "\n",
    "使用齐次坐标则可表示为：\n",
    "\n",
    "$$ \\mathbf{X}(t) = g(t)\\mathbf{X}_0 $$"
   ]
  },
  {
   "cell_type": "markdown",
   "metadata": {},
   "source": [
    "#### Concatenation of Motions over Frames"
   ]
  },
  {
   "cell_type": "markdown",
   "metadata": {},
   "source": [
    "一些性质的验证：\n",
    "\n",
    "对于 frame1 到 frame2 的变化，借助上面的式子可以表示为：\n",
    "\n",
    "$$\n",
    "\\mathbf{X}(t_2) = g(t_2, t_1)\\mathbf{X}(t_1)\n",
    "$$\n",
    "\n",
    "矩阵具有合并还有可逆的性质：\n",
    "\n",
    "$$\n",
    "g(t_3, t_1) = g(t_3, t_2)g(t_2, t_1)\n",
    "$$\n",
    "\n",
    "$$\n",
    "I = g(t_1, t_2)g(t_2, t_1)\n",
    "$$\n",
    "\n",
    "$$\n",
    "g^{-1}(t_1, t_2) = g(t_2, t_1)\n",
    "$$"
   ]
  },
  {
   "cell_type": "markdown",
   "metadata": {
    "ExecuteTime": {
     "end_time": "2020-01-21T14:21:36.869777Z",
     "start_time": "2020-01-21T14:21:36.850828Z"
    }
   },
   "source": [
    "#### Rules of Velocity Transformation"
   ]
  },
  {
   "cell_type": "markdown",
   "metadata": {},
   "source": [
    "同样类似引入twist coordinates去表示$ \\dot{g}(t)g^{-1}(t) $ （李代数）：\n",
    "\n",
    "$$ \n",
    "\\widehat{V}(t)\n",
    "\\equiv\n",
    "\\dot{g}(t)g^{-1}(t)\n",
    "=\n",
    "\\left(\\begin{array}{cc}\n",
    "{\\widehat{w}(t)} & {v(t)} \\\\\n",
    "{0} & {0}\n",
    "\\end{array}\\right)\n",
    "\\in\n",
    "\\mathrm{se}(3)\n",
    "$$\n",
    "\n",
    "类似旋转矩阵引入so(3)，相机运动可以被刻画为（齐次坐标）：\n",
    "\n",
    "$$\n",
    "\\dot{\\mathbf{X}}(t) = \\dot{g}(t) \\mathbf{X}_0 \n",
    "= \\dot{g}(t)g^{-1}(t) \\mathbf{X}(t)\n",
    "= \\widehat{V}(t) \\mathbf{X}(t)\n",
    "$$\n",
    "\n",
    "因此3D坐标运动表示为：\n",
    "\n",
    "$$\n",
    "\\dot{\\mathbf{X}}(t) \n",
    "= \\widehat{w}(t) \\mathbf{X}(t)\n",
    "+ v(t)\n",
    "$$"
   ]
  },
  {
   "cell_type": "markdown",
   "metadata": {},
   "source": [
    "#### Transfer Between Frames: The Adjoint(伴随) Map "
   ]
  },
  {
   "cell_type": "markdown",
   "metadata": {},
   "source": [
    "从另外一个角度观测速度：$ g_{xy}: \\mathbf{Y} =  g_{xy} \\mathbf{X} (t)$\n",
    "\n",
    "可以做如下推导，然后引出了伴随矩阵的概念：\n",
    "\n",
    "$$\n",
    "\\dot{\\mathbf{Y}}(t) = g_{xy} \\widehat{V} g_{xy}^{-1} \\mathbf{Y}(t)\n",
    "= \\widehat{V}_y \\mathbf{Y}(t)\n",
    "= ad_{g_{xy}}(\\widehat{V}) \\mathbf{Y}(t)\n",
    "$$\n",
    "\n",
    "相似地，然后重新映射回se(3) 李代数\n",
    "\n",
    "$$\n",
    "ad_{g}: se(3) \\rightarrow se(3): \\widehat{\\xi} \\rightarrow g \\widehat{\\xi} g^{-1}\n",
    "$$"
   ]
  },
  {
   "cell_type": "markdown",
   "metadata": {},
   "source": [
    "#### Summary"
   ]
  },
  {
   "cell_type": "markdown",
   "metadata": {},
   "source": [
    "![summary](./Image/Chap2_summary.png)"
   ]
  },
  {
   "cell_type": "markdown",
   "metadata": {},
   "source": [
    "### Euler Angles"
   ]
  },
  {
   "cell_type": "markdown",
   "metadata": {},
   "source": [
    "#### Alternative Representations: Euler Angles"
   ]
  },
  {
   "cell_type": "markdown",
   "metadata": {},
   "source": [
    "> [Wiki - Euler angles](https://en.wikipedia.org/wiki/Euler_angles)\n",
    "\n",
    "The **Euler angles** are three angles introduced by Leonhard Euler to describe the orientation of a rigid body with respect to a fixed coordinate system. They can also represent the orientation of a mobile frame of reference in physics or the orientation of a general basis in 3-dimensional linear algebra.\n",
    "\n",
    "This article is about the Euler angles used in [mathematics](https://en.wikipedia.org/wiki/Mathematics). For the use of the term in [physics](https://en.wikipedia.org/wiki/Physics) and aerospace engineering, see [rigid body dynamics](https://en.wikipedia.org/wiki/Rigid_body_dynamics). For chained rotations, see [chained rotations](https://en.wikipedia.org/wiki/Chained_rotations)."
   ]
  }
 ],
 "metadata": {
  "kernelspec": {
   "display_name": "Python 3",
   "language": "python",
   "name": "python3"
  },
  "language_info": {
   "codemirror_mode": {
    "name": "ipython",
    "version": 3
   },
   "file_extension": ".py",
   "mimetype": "text/x-python",
   "name": "python",
   "nbconvert_exporter": "python",
   "pygments_lexer": "ipython3",
   "version": "3.7.2"
  },
  "toc": {
   "base_numbering": 1,
   "nav_menu": {},
   "number_sections": false,
   "sideBar": true,
   "skip_h1_title": false,
   "title_cell": "Table of Contents",
   "title_sidebar": "Contents",
   "toc_cell": true,
   "toc_position": {
    "height": "calc(100% - 180px)",
    "left": "10px",
    "top": "150px",
    "width": "291.675px"
   },
   "toc_section_display": true,
   "toc_window_display": false
  },
  "varInspector": {
   "cols": {
    "lenName": 16,
    "lenType": 16,
    "lenVar": 40
   },
   "kernels_config": {
    "python": {
     "delete_cmd_postfix": "",
     "delete_cmd_prefix": "del ",
     "library": "var_list.py",
     "varRefreshCmd": "print(var_dic_list())"
    },
    "r": {
     "delete_cmd_postfix": ") ",
     "delete_cmd_prefix": "rm(",
     "library": "var_list.r",
     "varRefreshCmd": "cat(var_dic_list()) "
    }
   },
   "position": {
    "height": "144px",
    "left": "1090.4px",
    "right": "20px",
    "top": "122px",
    "width": "350px"
   },
   "types_to_exclude": [
    "module",
    "function",
    "builtin_function_or_method",
    "instance",
    "_Feature"
   ],
   "window_display": true
  }
 },
 "nbformat": 4,
 "nbformat_minor": 2
}
