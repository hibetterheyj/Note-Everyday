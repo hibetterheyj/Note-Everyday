{
 "cells": [
  {
   "cell_type": "markdown",
   "metadata": {},
   "source": [
    "## Note for Lecture 3: Representing a Moving Scene"
   ]
  },
  {
   "cell_type": "markdown",
   "metadata": {
    "ExecuteTime": {
     "end_time": "2020-01-20T13:56:01.748570Z",
     "start_time": "2020-01-20T13:56:01.733341Z"
    }
   },
   "source": [
    "> 对应[bilibili视频](https://www.bilibili.com/video/av24149942?p=3)"
   ]
  },
  {
   "cell_type": "markdown",
   "metadata": {},
   "source": [
    "### 3D Space & Rigid Body Motion"
   ]
  },
  {
   "cell_type": "markdown",
   "metadata": {},
   "source": [
    "- 3D Euclidean Space 三维欧几里得空间"
   ]
  },
  {
   "cell_type": "markdown",
   "metadata": {},
   "source": [
    "三维空间点 $ \\mathbf{X} = (X_1, X_2, X_3)^{\\mathsf{T}} \\in \\mathbb{R}^{3} $\n",
    "\n",
    "进一步，可以定义 $ v = \\mathbf{Y} - \\mathbf{X} \\in \\mathbb{R}^{3} $"
   ]
  },
  {
   "cell_type": "markdown",
   "metadata": {},
   "source": [
    "- Cross Product & Skew-symmetric Matrices 叉积与斜对称矩阵"
   ]
  },
  {
   "cell_type": "markdown",
   "metadata": {},
   "source": [
    "两个空间向量叉积可以直接转化为，向量与斜对称矩阵的乘积\n",
    "\n",
    "$$\n",
    "u \\times v\n",
    "=\n",
    "\\left(\\begin{array}{l}\n",
    "\\mathbf{i} & \\mathbf{j} & \\mathbf{k} \\\\\n",
    "u_1 & u_2 & u_3 \\\\\n",
    "v_1 & v_2 & v_3 \n",
    "\\end{array}\\right)\n",
    "=\n",
    "\\left(\\begin{array}{l}\n",
    "{u_{2} v_{3}-u_{3} v_{2}} \\\\\n",
    "{u_{3} v_{1}-u_{1} v_{3}} \\\\\n",
    "{u_{1} v_{2}-u_{2} v_{1}}\n",
    "\\end{array}\\right)\n",
    "\\in \\mathbb{R}^{3}\n",
    "$$\n",
    "\n",
    "具有性质 $\n",
    "u \\times v = - v \\times u $\n",
    "\n",
    "可以转化为 $ \\widehat{u} v $，\n",
    "\n",
    "其中$\n",
    "\\widehat{u}=\\left(\\begin{array}{ccc}\n",
    "{0} & {-u_{3}} & {u_{2}} \\\\\n",
    "{u_{3}} & {0} & {-u_{1}} \\\\\n",
    "{-u_{2}} & {u_{1}} & {0}\n",
    "\\end{array}\\right) \\in \\mathbb{R}^{3 \\times 3}\n",
    "$是一个斜对称矩阵\n",
    "\n",
    "具有以下性质$ M = - M ^{\\mathsf{T}} $\n",
    "\n",
    "The operator $ \\widehat{ }  $ defines an isomorphism between \\mathbb{R}^{3} and the space so(3) of all 3 x 3 skew-symmetric matrices.\n",
    "\n",
    "\n",
    "**!!!so(3)是属于李代数，而SO(3)属于李群，暂时不是非常理解**\n",
    "\n",
    "李群就是具有连续（光滑）性质的群，对应的就像整数集，它属于离散群"
   ]
  },
  {
   "cell_type": "markdown",
   "metadata": {},
   "source": [
    "- Rigid-body Motion 刚体运动"
   ]
  },
  {
   "cell_type": "markdown",
   "metadata": {},
   "source": [
    "另外一种定义方式：preserve the norm and cross product of any two vectors\n",
    "\n",
    "保持向量长度以及叉积的结果！进一步可以是实现triple-product：\n",
    "\n",
    "$$\n",
    "\\left\\langle g_{t}(u), g_{t}(v) \\times g_{t}(w)\\right\\rangle=\\langle u, v \\times w\\rangle, \\quad \\forall u, v, w \\in \\mathbb{R}^{3}\n",
    "$$\n",
    "\n",
    "验证体积的保持！"
   ]
  },
  {
   "cell_type": "markdown",
   "metadata": {},
   "source": [
    "- Representation of Rigid-body Motion"
   ]
  },
  {
   "cell_type": "markdown",
   "metadata": {},
   "source": [
    "旋转矩阵 $ R \\in S O(3)=\\left\\{R \\in \\mathbb{R}^{3 \\times 3} | R^{\\top} R=I, \\mathrm{det}(R)=+1\\right\\} $ 属于正交群（orthogonal group）\n",
    "\n",
    "因此，刚体运动可以表示为：\n",
    "$\n",
    "g_{t}(x)=R x+T\n",
    "$"
   ]
  },
  {
   "cell_type": "markdown",
   "metadata": {},
   "source": [
    "- Exponential Coordinates of Rotation 旋转指数坐标"
   ]
  },
  {
   "cell_type": "markdown",
   "metadata": {},
   "source": [
    "A family of rotation matrices $R(t)$ which\n",
    "continuously transform a point from its original location ($ R(0) = I $)\n",
    "\n",
    "然后以$R(t) R(t)^{\\mathsf{T}}=I, \\forall t$进行一系列推导：\n",
    "\n",
    "$\\dfrac{d}{d t}\\left(R R^{\\mathsf{T}}\\right)=\\dot{R} R^{\\mathsf{T}}+R \\dot{R}^{\\mathsf{T}}=0$, $\\dot{R} R^{\\mathsf{T}}=-\\left(\\dot{R} R^{\\mathsf{T}}\\right)^{\\mathsf{T}}$ 为斜对称矩阵\n",
    "\n",
    "存在 $ {w}(t) \\in \\mathbb{R}^3 $\n",
    "\n",
    "$\\dot{R}(t) R^{\\mathsf{T}}(t)=\\widehat{w}(t) \\Leftrightarrow \\dot{R}(t)=\\widehat{w} R(t)$\n",
    "\n",
    "$R(d t)=R(0)+d R=I+\\widehat{w}(0) d t$"
   ]
  },
  {
   "cell_type": "markdown",
   "metadata": {},
   "source": [
    "- Lie Group and Lie Algebra 李群与李代数"
   ]
  },
  {
   "cell_type": "markdown",
   "metadata": {},
   "source": [
    "> 可以参考[**第四讲：李群和李代数**](https://zhuanlan.zhihu.com/p/33156814) ！\n",
    "\n",
    "1. A Lie group (or infinitesimal group) is a smooth manifold\n",
    "that is also a group, such that the group operations\n",
    "multiplication and inversion are smooth maps.\n",
    "\n",
    "2. The Lie algebra so(3) is the tangent space at\n",
    "the identity of the rotation group SO(3).\n",
    "\n",
    "$ w(t) $ 反应了 $ R $ 的导数的性质，故称它在SO(3) 原点附近的**正切空间（Tangent Space）**上 ==> 每个李群都有与之对应的李代数。李代数描述了李群的局部性质，从而$ w(0) \\in so(3) $"
   ]
  },
  {
   "cell_type": "markdown",
   "metadata": {},
   "source": [
    "Lie bracket （李括号）:\n",
    "\n",
    "$[., .]: s o(3) \\times s o(3) \\rightarrow s o(3) ; \\quad[\\widehat{w}, \\widehat{v}] \\equiv \\widehat{w} \\widehat{v}-\\widehat{v} \\widehat{w}$"
   ]
  },
  {
   "cell_type": "markdown",
   "metadata": {},
   "source": [
    "- The Exponential Map "
   ]
  },
  {
   "cell_type": "markdown",
   "metadata": {},
   "source": [
    "to determine a useful representation of the rotation $ R(t) $?\n",
    "\n",
    "假设 $ \\widehat{w} $ 为常矩阵，已有：$\\left\\{\\begin{array}{l}{\\dot{R}(t)=\\widehat{w} R(t)} \\\\ {R(0)=l}\\end{array}\\right.$\n",
    "\n",
    "有常微分方程解法可以得到：$R(t)=e^{\\widehat{w} t}=\\sum\\limits_{n=0}^{\\infty} \\dfrac{(\\widehat{w} t)^{n}}{n !}=I+\\widehat{w} t+\\dfrac{(\\widehat{w} t)^{2}}{2 !}+\\dots$\n",
    "\n",
    "❗ 这一段不是很明白： This matrix exponential therefore defines a map from the Lie algebra to the Lie group. \n",
    "\n",
    "$$\n",
    "\\exp : s o(3) \\rightarrow S O(3) ; \\quad \\widehat{w} \\mapsto e^{\\widehat{w}}\n",
    "$$"
   ]
  },
  {
   "cell_type": "markdown",
   "metadata": {},
   "source": [
    "- The Logarithm of SO(3) "
   ]
  },
  {
   "cell_type": "markdown",
   "metadata": {},
   "source": []
  }
 ],
 "metadata": {
  "kernelspec": {
   "display_name": "Python 3",
   "language": "python",
   "name": "python3"
  },
  "language_info": {
   "codemirror_mode": {
    "name": "ipython",
    "version": 3
   },
   "file_extension": ".py",
   "mimetype": "text/x-python",
   "name": "python",
   "nbconvert_exporter": "python",
   "pygments_lexer": "ipython3",
   "version": "3.7.2"
  },
  "toc": {
   "base_numbering": 1,
   "nav_menu": {},
   "number_sections": true,
   "sideBar": true,
   "skip_h1_title": false,
   "title_cell": "Table of Contents",
   "title_sidebar": "Contents",
   "toc_cell": false,
   "toc_position": {},
   "toc_section_display": true,
   "toc_window_display": false
  },
  "varInspector": {
   "cols": {
    "lenName": 16,
    "lenType": 16,
    "lenVar": 40
   },
   "kernels_config": {
    "python": {
     "delete_cmd_postfix": "",
     "delete_cmd_prefix": "del ",
     "library": "var_list.py",
     "varRefreshCmd": "print(var_dic_list())"
    },
    "r": {
     "delete_cmd_postfix": ") ",
     "delete_cmd_prefix": "rm(",
     "library": "var_list.r",
     "varRefreshCmd": "cat(var_dic_list()) "
    }
   },
   "types_to_exclude": [
    "module",
    "function",
    "builtin_function_or_method",
    "instance",
    "_Feature"
   ],
   "window_display": true
  }
 },
 "nbformat": 4,
 "nbformat_minor": 2
}
