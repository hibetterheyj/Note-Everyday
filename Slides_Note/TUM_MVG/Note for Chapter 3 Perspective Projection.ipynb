{
 "cells": [
  {
   "cell_type": "markdown",
   "metadata": {
    "toc": true
   },
   "source": [
    "<h1>Table of Contents<span class=\"tocSkip\"></span></h1>\n",
    "<div class=\"toc\"><ul class=\"toc-item\"><li><span><a href=\"#Note-for-Chapter-3-Perspective-Projection\" data-toc-modified-id=\"Note-for-Chapter-3-Perspective-Projection-1\">Note for Chapter 3 Perspective Projection</a></span><ul class=\"toc-item\"><li><span><a href=\"#Mathematical-Representation\" data-toc-modified-id=\"Mathematical-Representation-1.1\">Mathematical Representation</a></span><ul class=\"toc-item\"><li><span><a href=\"#Mathematics-of-Perspective-Projection\" data-toc-modified-id=\"Mathematics-of-Perspective-Projection-1.1.1\">Mathematics of Perspective Projection</a></span></li><li><span><a href=\"#An-Ideal-Perspective-Camera\" data-toc-modified-id=\"An-Ideal-Perspective-Camera-1.1.2\">An Ideal Perspective Camera</a></span></li></ul></li><li><span><a href=\"#Intrinsic-Parameters\" data-toc-modified-id=\"Intrinsic-Parameters-1.2\">Intrinsic Parameters</a></span><ul class=\"toc-item\"><li><span><a href=\"#Intrinsic-Camera-Parameters-相机内参\" data-toc-modified-id=\"Intrinsic-Camera-Parameters-相机内参-1.2.1\">Intrinsic Camera Parameters 相机内参</a></span></li><li><span><a href=\"#The-Intrinsic-Parameter-Matrix\" data-toc-modified-id=\"The-Intrinsic-Parameter-Matrix-1.2.2\">The Intrinsic Parameter Matrix</a></span></li></ul></li><li><span><a href=\"#Spherical-Projection\" data-toc-modified-id=\"Spherical-Projection-1.3\">Spherical Projection</a></span><ul class=\"toc-item\"><li><span><a href=\"#Spherical-Perspective-Projection-球面透视投影\" data-toc-modified-id=\"Spherical-Perspective-Projection-球面透视投影-1.3.1\">Spherical Perspective Projection 球面透视投影</a></span></li></ul></li><li><span><a href=\"#Radial-Distortion\" data-toc-modified-id=\"Radial-Distortion-1.4\">Radial Distortion</a></span><ul class=\"toc-item\"><li><span><a href=\"#Radial-Distortion\" data-toc-modified-id=\"Radial-Distortion-1.4.1\">Radial Distortion</a></span></li></ul></li><li><span><a href=\"#Preimage-and-Coimage\" data-toc-modified-id=\"Preimage-and-Coimage-1.5\">Preimage and Coimage</a></span><ul class=\"toc-item\"><li><span><a href=\"#Preimage-of-Points-and-Lines-点与线的原像\" data-toc-modified-id=\"Preimage-of-Points-and-Lines-点与线的原像-1.5.1\">Preimage of Points and Lines 点与线的原像</a></span></li><li><span><a href=\"#Preimage-and-Coimage-原像和共像\" data-toc-modified-id=\"Preimage-and-Coimage-原像和共像-1.5.2\">Preimage and Coimage 原像和共像</a></span></li><li><span><a href=\"#Preimage-and-Coimage-of-Points-and-Lines\" data-toc-modified-id=\"Preimage-and-Coimage-of-Points-and-Lines-1.5.3\">Preimage and Coimage of Points and Lines</a></span></li><li><span><a href=\"#Summary\" data-toc-modified-id=\"Summary-1.5.4\">Summary</a></span></li></ul></li><li><span><a href=\"#Projective-Geometry\" data-toc-modified-id=\"Projective-Geometry-1.6\">Projective Geometry</a></span></li></ul></li></ul></div>"
   ]
  },
  {
   "cell_type": "markdown",
   "metadata": {},
   "source": [
    "## Note for Chapter 3 Perspective Projection"
   ]
  },
  {
   "cell_type": "markdown",
   "metadata": {},
   "source": [
    "- bilibili视频[lecture5](https://www.bilibili.com/video/av24149942?p=5)\n",
    "\n",
    "- 参考书目\n",
    "\n",
    "```\n",
    "Ma, Yi, et al. An invitation to 3-d vision: from images to geometric models. Vol. 26. Springer Science & Business Media, 2012.\n",
    "```"
   ]
  },
  {
   "cell_type": "markdown",
   "metadata": {},
   "source": [
    "### Mathematical Representation"
   ]
  },
  {
   "cell_type": "markdown",
   "metadata": {},
   "source": [
    "#### Mathematics of Perspective Projection"
   ]
  },
  {
   "cell_type": "markdown",
   "metadata": {},
   "source": [
    "透镜(thin len)模型，假设一点P $ \\mathbf{X} = (X, Y, Z) \\in \\mathbb{R}^3 $ ，p为物像\n",
    "\n",
    "![len](./Image/Chap3_len.jpg)\n",
    " \n",
    "其中，z轴为透镜中轴 (z-axis is the optical axis)\n",
    "\n",
    "\n",
    "投影变化(perspective transformation) $ \\pi $\n",
    "\n",
    "![projection](./Image/Chap3_projection.jpg)\n",
    "\n",
    "翻转物体对应的位置，物体与像对应公式：\n",
    "\n",
    "$$\n",
    "\\pi: \\mathbb{R}^3 \\rightarrow \\mathbb{R}^2; \\mathbf{X} \\rightarrow \n",
    "x = \\pi(\\mathbf{X}) = \\left(\\begin{array}{c}  f\\frac{X}{Z} \\\\ f\\frac{X}{Z} \\end{array}\\right) \n",
    "$$"
   ]
  },
  {
   "cell_type": "markdown",
   "metadata": {},
   "source": [
    "#### An Ideal Perspective Camera"
   ]
  },
  {
   "cell_type": "markdown",
   "metadata": {},
   "source": [
    "普通坐标下，建立投影模型，投影变换则为：\n",
    "$$\n",
    "Z \\mathbf{x} \n",
    "= Z \n",
    "\\left(\\begin{array} {c} x \\\\ y\\\\ 1 \\end{array} \\right)\n",
    "= \\left(\\begin{array} {cccc} f & 0 & 0 & 0 \\\\ 0 & f & 0 & 0\\\\ 0 & 0 & 1 & 0 \\end{array} \\right) \\left(\\begin{array} {c} X \\\\ Y \\\\ Z \\\\ 1 \\end{array} \\right)\n",
    "= \\left(\\begin{array} {ccc} f & 0 & 0  \\\\ 0 & f & 0\\\\ 0 & 0 & 1 \\end{array} \\right)\n",
    "\\left(\\begin{array} {cccc} 1 & 0 & 0 & 0 \\\\ 0 & 1 & 0 & 0\\\\ 0 & 0 & 1 & 0 \\end{array} \\right) \n",
    "\\left(\\begin{array} {c} X \\\\ Y \\\\ Z \\\\ 1 \\end{array} \\right)\n",
    "= K_f \\Pi_0 \\mathbf{X}\n",
    "$$\n",
    "其中，$ K_f $ 为焦距矩阵，$ \\Pi_0 $ 标准投影矩阵。\n",
    "\n",
    "进一步优化，求解特征值：\n",
    "$$\n",
    "\\lambda \\mathbf{x} = K_f \\Pi_0 \\mathbf{X}\n",
    "= K_f \\Pi_0 g \\mathbf{X}_0\n",
    "$$\n",
    "\n",
    "特别的是，若焦距f一直，它可以进行归一化（by changing the units of the image coordinates）\n",
    "$$\n",
    "\\lambda \\mathbf{x} = \\Pi_0 \\mathbf{X} = \\Pi_0 g \\mathbf{X}_0\n",
    "$$\n",
    "\n",
    "相机运动模型：\n",
    "$$\n",
    "\\mathbf{X} = R \\mathbf{X}_0 + \\mathbf{T}\n",
    "$$\n",
    "在齐次坐标下，可以简化成矩阵相乘\n",
    "$$\n",
    "\\mathbf{X} = g \\mathbf{X}_0\n",
    "= \n",
    "\\left(\\begin{array} {cc}\n",
    "R & T \\\\ 0 & 1\n",
    "\\end{array} \\right)\n",
    "\\mathbf{X}_0\n",
    "$$\n",
    "\n",
    "\n",
    "❗ 更多待补充"
   ]
  },
  {
   "cell_type": "markdown",
   "metadata": {},
   "source": [
    "### Intrinsic Parameters"
   ]
  },
  {
   "cell_type": "markdown",
   "metadata": {},
   "source": [
    "#### Intrinsic Camera Parameters 相机内参"
   ]
  },
  {
   "cell_type": "markdown",
   "metadata": {},
   "source": [
    "坐标系：world => camera => image => pixek\n",
    "\n",
    "相机不在焦线上，需要引入额外的平移变换 $ (o_x, o_y , 1)^{\\mathsf{T}} $\n",
    "\n",
    "pixel coordinate unit scale （单位归一），需要引入尺度放缩系数 $ s_x $ 和 $ s_y $\n",
    "\n",
    "此外，对于畸变也需引入 pixels are not rectangular, we have a skew factor $ s_{\\theta} $\n",
    "\n",
    "因此，对应矩阵变换为：\n",
    "\n",
    "$\n",
    "K_s\n",
    "=\n",
    "\\left(\n",
    "\\begin{array}{ccc}\n",
    "s_x & s_{\\theta} & o_x\\\\\n",
    "0 & s_y & o_y\\\\\n",
    "0 & 0 & 1 \\end{array}\n",
    "\\right)\n",
    "$\n",
    "\n",
    "焦点对应矩阵：\n",
    "\n",
    "$\n",
    "K_f\n",
    "=\n",
    "\\left(\n",
    "\\begin{array}{ccc}\n",
    "f & 0 & 0\\\\\n",
    "0 & f & 0\\\\\n",
    "0 & 0 & 1 \\end{array}\n",
    "\\right)\n",
    "$\n",
    "\n",
    "内参矩阵（intrinsic parameter matrix）：$ K = K_s K_f $\n",
    "\n",
    "像素坐标 $ (x', y', 1)^{\\mathsf{T}} $\n",
    "\n",
    "$$\n",
    "\\lambda \\mathbf{x} = \\Pi_0 \\mathbf{X} = \\Pi_0 g \\mathbf{X}_0\n",
    "\\rightarrow\n",
    "\\lambda \\left(\\begin{array}{c} x' \\\\ y' \\\\ 1 \\end{array} \\right)\n",
    "=\n",
    "K_s\n",
    "K_f\n",
    "\\Pi_0\n",
    "\\left(\\begin{array}{c} X \\\\ Y \\\\ Z \\\\ 1 \\end{array} \\right)\n",
    "$$"
   ]
  },
  {
   "cell_type": "markdown",
   "metadata": {},
   "source": [
    "#### The Intrinsic Parameter Matrix"
   ]
  },
  {
   "cell_type": "markdown",
   "metadata": {},
   "source": [
    "内参矩阵：\n",
    "$$\n",
    "K = K_s K_f = \n",
    "\\left(\n",
    "\\begin{array}{ccc} \n",
    "fs_x & fs_{\\theta} & o_x \\\\\n",
    "0 & fs_y & o_y \\\\\n",
    "0 & 0 & 1\n",
    "\\end{array}\n",
    "\\right)\n",
    "$$\n",
    "\n",
    "因此，从世界坐标系看：\n",
    "$$\n",
    "\\lambda \\mathbf{x'}\n",
    "=\n",
    "K_s\n",
    "K_f\n",
    "\\Pi_0\n",
    "\\left(\\begin{array}{c} X \\\\ Y \\\\ Z \\\\ 1 \\end{array} \\right)\n",
    "= K \\Pi_0 \\lambda \\mathbf{X}\n",
    "= K \\Pi_0 g\\mathbf{X}_0\n",
    "= \\Pi \\mathbf{X}_0\n",
    "$$\n",
    "其中，内参矩阵$ K \\in \\mathbb{R}^{3 \\times 3}$, 投影矩阵$ \\Pi_0 \\in \\mathbb{R}^{3 \\times 4}$，刚体变换矩阵$ g \\in \\mathbb{R}^{4 \\times 4}$和坐标$ \\mathbf{X} \\in \\mathbb{R}^{4 \\times 1}$\n",
    "\n",
    "从而定义一个一般投影矩阵$ \\Pi = K \\Pi_0 g = (KR, KT)^{\\mathsf{T}} \\in \\mathbb{R}^{3 \\times 4} $\n",
    "\n",
    "Although the above equation looks ike a linear one, we still have the scale parameter，非线性，并具有尺度参数 $ \\lambda $，除以$ \\lambda $之后可以得到：\n",
    "$$\n",
    "x'\n",
    "=\n",
    "\\frac{\\pi_{1}^{\\mathsf{T}}\\mathbf{X}_0}{\\pi_{3}^{\\mathsf{T}}\\mathbf{X}_0}\n",
    "\\Pi_0,\n",
    "\\quad\n",
    "y'\n",
    "=\n",
    "\\frac{\\pi_{2}^{\\mathsf{T}}\\mathbf{X}_0}{\\pi_{3}^{\\mathsf{T}}\\mathbf{X}_0}\n",
    "\\Pi_0,\n",
    "\\quad\n",
    "z' = 1\n",
    "$$\n",
    "\n",
    "其中 $ \\pi_{i}^{\\mathsf{T}} $代表投影矩阵第$i$行\n",
    "\n",
    "相关矩阵：\n",
    "$$\n",
    "K = \n",
    "\\left(\n",
    "\\begin{array}{ccc} \n",
    "fs_x & fs_{\\theta} & o_x \\\\\n",
    "0 & fs_y & o_y \\\\\n",
    "0 & 0 & 1\n",
    "\\end{array}\n",
    "\\right)\n",
    "$$\n",
    "\n",
    "- 像素水平尺寸$ fs_x = \\alpha_x $\n",
    "- 像素垂直尺寸$ fs_y = \\alpha_y $\n",
    "- 尺寸比例（aspect ratio）$ \\sigma = \\alpha_x / \\alpha_y $\n",
    "- 像素变形（接近0）$ fs_{\\theta} $"
   ]
  },
  {
   "cell_type": "markdown",
   "metadata": {},
   "source": [
    "### Spherical Projection "
   ]
  },
  {
   "cell_type": "markdown",
   "metadata": {},
   "source": [
    "#### Spherical Perspective Projection 球面透视投影"
   ]
  },
  {
   "cell_type": "markdown",
   "metadata": {},
   "source": [
    "该模型是投影在球面上，不是像前面平面上。\n",
    "\n",
    "对应原有平面镜模型，球面模型没有所谓的Z，而是使用$ \\dfrac{\\mathbf{x}}{|\\mathbf{x}|} $\n",
    "\n",
    "one can consider a spherical\n",
    "projection surface given by the unit sphere $ \\mathbb{S}^2 \\equiv \\{{x \\in \\mathbb{R}^3} | |x| = 1 \\} $\n",
    "\n",
    "从而对应的球面投影$ \\pi_s: \\mathbb{R}^3 \\rightarrow \\mathbb{S}^2; \\quad \\mathbf{X} \\rightarrow \\mathbf{x} = \\dfrac{\\mathbf{x}}{|\\mathbf{x}|} $\n",
    "\n",
    "相似地，像素坐标系与世界坐标系有对应关系：\n",
    "$$\n",
    "\\lambda \\mathbf{x'}\n",
    "= K \\Pi_0 g\\mathbf{X}_0\n",
    "$$\n",
    "不过其中比较特别的是，尺度因子$ \\lambda = |\\mathbf{X}| = \\sqrt{X^2 + Y^2 + Z^2} $\n",
    "\n",
    "❗ 对应的科学表示 $ \\mathbf{x} \\sim \\mathbf{Y} $\n",
    "\n",
    "从而，投影矩阵：\n",
    "$$\n",
    "\\mathbf{x}' \\sim \\Pi \\mathbf{X}_0 = K \\Pi_0 g\\mathbf{X}_0\n",
    "$$\n",
    "\n",
    "❗ 理解待添加！"
   ]
  },
  {
   "cell_type": "markdown",
   "metadata": {},
   "source": [
    "### Radial Distortion"
   ]
  },
  {
   "cell_type": "markdown",
   "metadata": {},
   "source": [
    "#### Radial Distortion"
   ]
  },
  {
   "cell_type": "markdown",
   "metadata": {},
   "source": [
    "- 最简单的模型\n",
    "\n",
    "考虑是圆形畸变，参数有$ a_1, a_2 $两个，则最简单的模型考虑为：\n",
    "$$\n",
    "x = x_d(1 + a_1 r^2 + a_2 r^4),\\\\\n",
    "y = y_d(1 + a_1 r^2 + a_2 r^4)\n",
    "$$\n",
    "\n",
    "其中$(x_d, y_d)$ 为畸变原点坐标，$(x, y)$ 为畸变后点坐标，$ r^2 = x_d^2 + y_d^2 $ 为半径参数\n",
    "\n",
    "- 更为一般的模型\n",
    "\n",
    "增加到$ a_1, a_2, a_3, a_4, c $五个参数。与其他四个一般参数不同，$ c $为畸变中心，不一定与图片中心重合，如下表是：\n",
    "$$\n",
    "x = c + f(r) (x_d--c),\\\\\n",
    "f(r) = 1 + a_1 r + a_2 r^2 + a_3 r^3 + a_4 r^4\n",
    "$$\n",
    "其中，$f(r)$ 是畸变相关系数（the distortion correction factor）"
   ]
  },
  {
   "cell_type": "markdown",
   "metadata": {},
   "source": [
    "### Preimage and Coimage"
   ]
  },
  {
   "cell_type": "markdown",
   "metadata": {},
   "source": [
    "#### Preimage of Points and Lines 点与线的原像"
   ]
  },
  {
   "cell_type": "markdown",
   "metadata": {},
   "source": [
    "![Preimage P of a line L](./Image/Chap3_Preimage.jpg)\n",
    "\n",
    "根据图进行说明，三维线L上有一点P，其中$ \\mathbf{X}_0 = [X_0, Y_0, Z_0, 1]^{\\mathsf{T}} $为点P的齐次坐标与$ \\mathbf{V} = [V_1, V_2, V_3, 0]^{\\mathsf{T}} $为线段对应矢量表示，对于在线上的可以表示为：\n",
    "$$\n",
    "\\mathbf{X} = \\mathbf{X}_0 + \\mu \\mathbf{V},\\quad \\mu \\in \\mathbb{R}\n",
    "$$\n",
    "\n",
    "失去了深度信息，多个点映射到图片上同一点，图片上对应线L上的点坐标为：\n",
    "$$\n",
    "\\mathbf{x} \\sim \\Pi_0 \\mathbf{X} = \\Pi_0 (\\mathbf{X}_0 + \\mu \\mathbf{V})$$\n",
    "\n",
    "图片上的一条线 L 是由一个平面P与投影平面的交线。"
   ]
  },
  {
   "cell_type": "markdown",
   "metadata": {},
   "source": [
    "#### Preimage and Coimage 原像和共像"
   ]
  },
  {
   "cell_type": "markdown",
   "metadata": {},
   "source": [
    "> [Wiki - Orthogonal complement](https://en.wikipedia.org/wiki/Orthogonal_complement), [中文](https://zh.wikipedia.org/wiki/%E6%AD%A3%E4%BA%A4%E8%A1%A5)\n",
    "\n",
    "- Preimage定义：A preimage of a point or a line in the image plane is the set of 3-D points that give rise to an image equal to the given point or line. （图片上对应点线在空间上的拓展表示）\n",
    "\n",
    "    - 原像在三维空间中（与图像平面相对应）；对于图片上点的原像即空间中对应一个从o发出的矢量；一条线原像对应空间中从o放射出来的一个平面。原像与图片平面的交点即为点和线；并且放射出来的平面可以用任意两个线性独立的矢量表示【In the case of a point x on the image plane, its preimage is a one-dimensional subspace, spanned by the vector joining the point\n",
    "x to the camera center o. In the case of a line, the preimage is a plane P through o (hence a subspace) as shown in Figure】\n",
    "    - 对于点和线，原像是一个子空间，并且可以使用在$ \\mathbb{R}^3 $的正交补来表示；如一个平面可以有他的法向向量表示【However, when the image is a point or a line, the preimage is a\n",
    "subspace, and we may also represent this subspace by its (unique) orthogonal\n",
    "complement in $ \\mathbb{R}^3 $ . For instance, a plane can be represented by its normal vector.】\n",
    "\n",
    "- Coimage定义：共像可以理解为原像的正交补。The coimage of a point or a line is defined to be the subspace in $ \\mathbb{R}^3 $ that is the (unique) orthogonal complement of its pre image.（正交补表示）\n",
    "\n",
    "\n",
    "做以下区别（the image, preimage, and coimage are equivalent representations, since they uniquely determine one another）,按照公式表示：\n",
    "\n",
    "$$\n",
    "\\mathrm{image} = \\mathrm{preimage} \\cap \\mathrm{image\\ plane},\\\\\n",
    "\\mathrm{preimage} = \\mathrm{span}(\\mathrm{image}), \\\\\n",
    "\\mathrm{preimage} = \\mathrm{coimage}^{\\perp}, \\\\\n",
    "\\mathrm{coimage} = \\mathrm{preimage}^{\\perp} .\n",
    "$$\n"
   ]
  },
  {
   "cell_type": "markdown",
   "metadata": {},
   "source": [
    "#### Preimage and Coimage of Points and Lines"
   ]
  },
  {
   "cell_type": "markdown",
   "metadata": {},
   "source": [
    "假设有一条线$ L $，其原像是为2D子空间中，它可以使用一维的共像通过法向量的延展来表示 by the span of its\n",
    "normal vector $ \\ell \\in \\mathbb{R}^3 $，因此图片上的点投正交于 $ \\ell $,整体表示为：\n",
    "$$\n",
    "\\ell^{\\mathsf{T}} \\mathbf{x} = 0\n",
    "$$\n",
    "\n",
    "对于图片P，则可理解为法向量的正交补（即点p）的延展：\n",
    "$$\n",
    "\\mathbf{P} = \\mathrm{span}(\\hat{\\ell})\n",
    "$$\n",
    "\n",
    "整体出如下表格：\n",
    "\n",
    "|       | Image                                                 | Preimage                                       | Coimage                                             |\n",
    "| ----- | ----------------------------------------------------- | ---------------------------------------------- | --------------------------------------------------- |\n",
    "| Point | $ \\mathrm{span}(\\mathbf{x}) \\cap \\mathrm{im.plane}$ | $ \\mathrm{span}(\\mathbf{x}) \\in \\mathbb{R}^3 $ | $ \\mathrm{span}(\\hat{\\mathbf{x}})\\in \\mathbb{R}^3 $ |\n",
    "| Line  | $ \\mathrm{span}(\\hat{\\ell}) \\cap \\mathrm{im.plane}$ | $ \\mathrm{span}(\\hat{\\ell}) \\in \\mathbb{R}^3 $ | $ \\mathrm{span}(\\ell) \\in \\mathbb{R}^3 $            |\n",
    "\n"
   ]
  },
  {
   "cell_type": "markdown",
   "metadata": {},
   "source": [
    "#### Summary"
   ]
  },
  {
   "cell_type": "markdown",
   "metadata": {},
   "source": [
    "the notions of preimage (maximal point set which is consistent with\n",
    "a given image) and coimage (its orthogonal complement). Both\n",
    "can be used equivalently to the image."
   ]
  },
  {
   "cell_type": "markdown",
   "metadata": {},
   "source": [
    "### Projective Geometry"
   ]
  },
  {
   "cell_type": "markdown",
   "metadata": {},
   "source": [
    "> [Wiki - Projective geometry](https://en.wikipedia.org/wiki/Projective_geometry), [中文](https://zh.wikipedia.org/wiki/%E5%B0%84%E5%BD%B1%E5%87%A0%E4%BD%95)\n",
    "\n",
    "MVG这本书有所介绍投影几何，可以使用一个更为一般的数学表示空间中的一个点！在本门课，可以不需要。\n",
    "\n",
    "❗ 更多待补充"
   ]
  }
 ],
 "metadata": {
  "kernelspec": {
   "display_name": "Python 3",
   "language": "python",
   "name": "python3"
  },
  "language_info": {
   "codemirror_mode": {
    "name": "ipython",
    "version": 3
   },
   "file_extension": ".py",
   "mimetype": "text/x-python",
   "name": "python",
   "nbconvert_exporter": "python",
   "pygments_lexer": "ipython3",
   "version": "3.7.2"
  },
  "toc": {
   "base_numbering": 1,
   "nav_menu": {},
   "number_sections": false,
   "sideBar": true,
   "skip_h1_title": false,
   "title_cell": "Table of Contents",
   "title_sidebar": "Contents",
   "toc_cell": true,
   "toc_position": {},
   "toc_section_display": true,
   "toc_window_display": false
  },
  "varInspector": {
   "cols": {
    "lenName": 16,
    "lenType": 16,
    "lenVar": 40
   },
   "kernels_config": {
    "python": {
     "delete_cmd_postfix": "",
     "delete_cmd_prefix": "del ",
     "library": "var_list.py",
     "varRefreshCmd": "print(var_dic_list())"
    },
    "r": {
     "delete_cmd_postfix": ") ",
     "delete_cmd_prefix": "rm(",
     "library": "var_list.r",
     "varRefreshCmd": "cat(var_dic_list()) "
    }
   },
   "position": {
    "height": "143.68px",
    "left": "798.72px",
    "right": "20px",
    "top": "120px",
    "width": "350px"
   },
   "types_to_exclude": [
    "module",
    "function",
    "builtin_function_or_method",
    "instance",
    "_Feature"
   ],
   "window_display": false
  }
 },
 "nbformat": 4,
 "nbformat_minor": 2
}
